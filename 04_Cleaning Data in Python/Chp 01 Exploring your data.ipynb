{
  "cells": [
    {
      "metadata": {},
      "cell_type": "markdown",
      "source": "# Chp 01 Cleaning Data in Python"
    },
    {
      "metadata": {},
      "cell_type": "markdown",
      "source": "## Course Description\nA vital component of data science involves acquiring raw data and getting it into a form ready for analysis. It is commonly said that data scientists spend 80% of their time cleaning and manipulating data, and only 20% of their time actually analyzing it. This course will equip you with all the skills you need to clean your data in Python, from learning how to diagnose problems in your data, to dealing with missing values and outliers. At the end of the course, you'll apply all of the techniques you've learned to a case study to clean a real-world `Gapminder` dataset."
    },
    {
      "metadata": {
        "collapsed": true
      },
      "cell_type": "markdown",
      "source": "## 1-1 Exploring your data\n\nSay you've just gotten your hands on a brand new dataset and are itching to start exploring it. But where do you begin, and how can you be sure your dataset is clean? This chapter will introduce you to data cleaning in Python. You'll learn how to explore your data with an eye for diagnosing issues such as **outliers, missing values, and duplicate rows**."
    },
    {
      "metadata": {},
      "cell_type": "markdown",
      "source": "## Diagnose data for cleanin"
    },
    {
      "metadata": {},
      "cell_type": "markdown",
      "source": "## Loading and viewing your data\nIn this chapter, you're going to look at a subset of the Department of Buildings Job Application Filings dataset from the [**NYC Open Data portal**](https://opendata.cityofnewyork.us/). This dataset consists of job applications filed on January 22, 2017.\n\nYour first task is to load this dataset into a DataFrame and then inspect it using the `.head()` and `.tail()` methods. However, you'll find out very quickly that the printed results don't allow you to see everything you need, since there are too many columns. Therefore, you need to look at the data in another way.\n\nThe `.shape` and `.columns` attributes let you see the shape of the DataFrame and obtain a list of its columns. From here, you can see which columns are relevant to the questions you'd like to ask of the data. To this end, a new DataFrame, `df_subset`, consisting only of these relevant columns, has been pre-loaded. This is the DataFrame you'll work with in the rest of the chapter.\n\nGet acquainted with the dataset now by exploring it with pandas! This initial exploratory analysis is a crucial first step of data cleaning."
    },
    {
      "metadata": {},
      "cell_type": "markdown",
      "source": "**Instructions**\n\n- Import pandas as `pd`.\n- Read `'dob_job_application_filings_subset.csv'` into a DataFrame called `df`.\n- Print the head and tail of `df`.\n- Print the shape of df and its columns. Note: `.shape` and `.columns` are attributes, not methods, so you don't need to follow these with parentheses ().\n- Hit 'Submit Answer' to view the results! Notice the suspicious number of 0 values. Perhaps these represent missing data."
    },
    {
      "metadata": {
        "trusted": true
      },
      "cell_type": "code",
      "source": "# Import pandas\nimport pandas as pd\n\n# Read the file into a DataFrame: df\ndf = pd.read_csv('datasets/dob_job_application_filings_subset.csv', low_memory=False)\n\n",
      "execution_count": 6,
      "outputs": []
    },
    {
      "metadata": {
        "trusted": true
      },
      "cell_type": "code",
      "source": "print(df.head())",
      "execution_count": 10,
      "outputs": [
        {
          "output_type": "stream",
          "text": "       Job #  Doc #        Borough       House #  \\\n0  121577873      2      MANHATTAN  386            \n1  520129502      1  STATEN ISLAND  107            \n2  121601560      1      MANHATTAN  63             \n3  121601203      1      MANHATTAN  48             \n4  121601338      1      MANHATTAN  45             \n\n                        Street Name  Block  Lot    Bin # Job Type Job Status  \\\n0  PARK AVENUE SOUTH                   857   38  1016890       A2          D   \n1  KNOX PLACE                          342    1  5161350       A3          A   \n2  WEST 131 STREET                    1729    9  1053831       A2          Q   \n3  WEST 25TH STREET                    826   69  1015610       A2          D   \n4  WEST 29 STREET                      831    7  1015754       A3          D   \n\n            ...                         Owner's Last Name  \\\n0           ...            MIGLIORE                         \n1           ...            BLUMENBERG                       \n2           ...            MARKOWITZ                        \n3           ...            CASALE                           \n4           ...            LEE                              \n\n              Owner's Business Name Owner's House Number  \\\n0  MACKLOWE MANAGEMENT                      126            \n1  NA                                       107            \n2  635 RIVERSIDE DRIVE NY LLC               619            \n3  48 W 25 ST LLC C/O BERNSTEIN             150            \n4  HYUNG-HYANG REALTY CORP                  614            \n\n           Owner'sHouse Street Name            City  State    Zip  \\\n0  EAST 56TH STREET                  NEW YORK           NY  10222   \n1  KNOX PLACE                        STATEN ISLAND      NY  10314   \n2  WEST 54TH STREET                  NEW YORK           NY  10016   \n3  WEST 30TH STREET                  NEW YORK           NY  10001   \n4  8 AVENUE                          NEW YORK           NY  10001   \n\n  Owner'sPhone #                                    Job Description  \\\n0     2125545837  GENERAL MECHANICAL & PLUMBING MODIFICATIONS AS...   \n1     3477398892  BUILDERS PAVEMENT PLAN 143 LF.                ...   \n2     2127652555  GENERAL CONSTRUCTION TO INCLUDE NEW PARTITIONS...   \n3     2125941414  STRUCTURAL CHANGES ON THE 5TH FLOOR (MOONDOG E...   \n4     2019881222  FILING HEREWITH FACADE REPAIR PLANS. WORK SCOP...   \n\n               DOBRunDate  \n0  04/26/2013 12:00:00 AM  \n1  04/26/2013 12:00:00 AM  \n2  04/26/2013 12:00:00 AM  \n3  04/26/2013 12:00:00 AM  \n4  04/26/2013 12:00:00 AM  \n\n[5 rows x 82 columns]\n",
          "name": "stdout"
        }
      ]
    },
    {
      "metadata": {
        "trusted": true
      },
      "cell_type": "code",
      "source": "print(df.tail())",
      "execution_count": 9,
      "outputs": [
        {
          "output_type": "stream",
          "text": "           Job #  Doc #        Borough       House #  \\\n12841  520143988      1  STATEN ISLAND  8              \n12842  121613833      1      MANHATTAN  724            \n12843  121681260      1      MANHATTAN  350            \n12844  320771704      1       BROOKLYN  499            \n12845  520143951      1  STATEN ISLAND  1755           \n\n                            Street Name  Block  Lot    Bin # Job Type  \\\n12841  NOEL STREET                        5382   20  5069722       A2   \n12842  10 AVENUE                          1059    4  1082503       A2   \n12843  MANHATTAN AVE.                     1848   31  1055849       A2   \n12844  UNION STREET                        431   43  3007185       A2   \n12845  RICHMOND ROAD                       887   28  5022931       A2   \n\n      Job Status           ...                         Owner's Last Name  \\\n12841          D           ...            MALITO                           \n12842          D           ...            CROMAN                           \n12843          A           ...            ARYEH                            \n12844          D           ...            WIGGINS                          \n12845          D           ...            CAMBRIA                          \n\n                  Owner's Business Name Owner's House Number  \\\n12841  GENO MALITO                              8              \n12842  722-724 10TH AVENUE HOLDING LLC          632            \n12843  DG UWS LLC                               619            \n12844  N/A                                      77             \n12845  RONALD CAMBRIA                           1755           \n\n               Owner'sHouse Street Name            City  State    Zip  \\\n12841  NOEL STREET                       STATEN ISLAND      NY  10312   \n12842  BROADWAY                          NEW YORK           NY  10012   \n12843  WEST 54TH STREET                  NEW YORK           NY  10019   \n12844  PROSPECT PLACE                    BROOKLYN           NY  11217   \n12845  RICHMOND ROAD                     STATEN ISLAND      NY  10304   \n\n      Owner'sPhone #                                    Job Description  \\\n12841     9174685659  HORIZONTAL ENLARGEMENT OF ATTACHED ONE CAR GAR...   \n12842     2122289300  RENOVATION OF EXISTING APARTMENT #3B ON THIRD ...   \n12843     2127652555  REPLACE BURNER IN EXSTG BOILER WITH NEW GAS BU...   \n12844     9178487799  INSTALL NEW SPRINKLER SYSTEM THROUGHOUT THE BU...   \n12845     7184482740  INTERIOR PARTITIONS AND MINOR PLUMBING WORK TO...   \n\n                   DOBRunDate  \n12841  06/13/2013 12:00:00 AM  \n12842  06/13/2013 12:00:00 AM  \n12843  06/13/2013 12:00:00 AM  \n12844  06/13/2013 12:00:00 AM  \n12845  06/13/2013 12:00:00 AM  \n\n[5 rows x 82 columns]\n",
          "name": "stdout"
        }
      ]
    },
    {
      "metadata": {
        "trusted": true
      },
      "cell_type": "code",
      "source": "df.shape\n",
      "execution_count": 7,
      "outputs": [
        {
          "output_type": "execute_result",
          "execution_count": 7,
          "data": {
            "text/plain": "(12846, 82)"
          },
          "metadata": {}
        }
      ]
    },
    {
      "metadata": {
        "trusted": true
      },
      "cell_type": "code",
      "source": "df.columns",
      "execution_count": 8,
      "outputs": [
        {
          "output_type": "execute_result",
          "execution_count": 8,
          "data": {
            "text/plain": "Index(['Job #', 'Doc #', 'Borough', 'House #', 'Street Name', 'Block', 'Lot',\n       'Bin #', 'Job Type', 'Job Status', 'Job Status Descrp',\n       'Latest Action Date', 'Building Type', 'Community - Board', 'Cluster',\n       'Landmarked', 'Adult Estab', 'Loft Board', 'City Owned', 'Little e',\n       'PC Filed', 'eFiling Filed', 'Plumbing', 'Mechanical', 'Boiler',\n       'Fuel Burning', 'Fuel Storage', 'Standpipe', 'Sprinkler', 'Fire Alarm',\n       'Equipment', 'Fire Suppression', 'Curb Cut', 'Other',\n       'Other Description', 'Applicant's First Name', 'Applicant's Last Name',\n       'Applicant Professional Title', 'Applicant License #',\n       'Professional Cert', 'Pre- Filing Date', 'Paid', 'Fully Paid',\n       'Assigned', 'Approved', 'Fully Permitted', 'Initial Cost',\n       'Total Est. Fee', 'Fee Status', 'Existing Zoning Sqft',\n       'Proposed Zoning Sqft', 'Horizontal Enlrgmt', 'Vertical Enlrgmt',\n       'Enlargement SQ Footage', 'Street Frontage', 'ExistingNo. of Stories',\n       'Proposed No. of Stories', 'Existing Height', 'Proposed Height',\n       'Existing Dwelling Units', 'Proposed Dwelling Units',\n       'Existing Occupancy', 'Proposed Occupancy', 'Site Fill', 'Zoning Dist1',\n       'Zoning Dist2', 'Zoning Dist3', 'Special District 1',\n       'Special District 2', 'Owner Type', 'Non-Profit', 'Owner's First Name',\n       'Owner's Last Name', 'Owner's Business Name', 'Owner's House Number',\n       'Owner'sHouse Street Name', 'City ', 'State', 'Zip', 'Owner'sPhone #',\n       'Job Description', 'DOBRunDate'],\n      dtype='object')"
          },
          "metadata": {}
        }
      ]
    },
    {
      "metadata": {},
      "cell_type": "markdown",
      "source": "Great work! In addition to the suspicious number of `0` values, which may represent missing data, notice that the columns that contain monetary values - `'Initial Cost'` and `'Total Est. Fee'` - have a dollar sign in the beginning. These columns may be coded as strings instead of numeric values. You will check this in the next exercise."
    },
    {
      "metadata": {},
      "cell_type": "markdown",
      "source": "## Further diagnosis\nIn the previous exercise, you identified some potentially unclean or missing data. Now, you'll continue to diagnose your data with the very useful `.info()` method.\n\nThe `.info()` method provides important information about a DataFrame, such as the number of rows, number of columns, number of non-missing values in each column, and the data type stored in each column. This is the kind of information that will allow you to confirm whether the `'Initial Cost'` and `'Total Est. Fee'` columns are numeric or strings. From the results, you'll also be able to see whether or not all columns have complete data in them.\n\nThe full DataFrame `df` and the subset DataFrame `df_subset` have been pre-loaded. Your task is to use the `.info()` method on these and analyze the results."
    },
    {
      "metadata": {},
      "cell_type": "markdown",
      "source": "**Instructions**\n- Print the info of `df`.\n- Print the info of the subset dataframe, `df_subset`."
    },
    {
      "metadata": {
        "trusted": true
      },
      "cell_type": "code",
      "source": "df.info()",
      "execution_count": 3,
      "outputs": [
        {
          "output_type": "stream",
          "text": "<class 'pandas.core.frame.DataFrame'>\nRangeIndex: 12846 entries, 0 to 12845\nData columns (total 82 columns):\nJob #                           12846 non-null int64\nDoc #                           12846 non-null int64\nBorough                         12846 non-null object\nHouse #                         12846 non-null object\nStreet Name                     12846 non-null object\nBlock                           12846 non-null int64\nLot                             12846 non-null int64\nBin #                           12846 non-null int64\nJob Type                        12846 non-null object\nJob Status                      12846 non-null object\nJob Status Descrp               12846 non-null object\nLatest Action Date              12846 non-null object\nBuilding Type                   12846 non-null object\nCommunity - Board               12846 non-null object\nCluster                         0 non-null float64\nLandmarked                      2067 non-null object\nAdult Estab                     1 non-null object\nLoft Board                      65 non-null object\nCity Owned                      1419 non-null object\nLittle e                        365 non-null object\nPC Filed                        0 non-null float64\neFiling Filed                   12846 non-null object\nPlumbing                        12846 non-null object\nMechanical                      12846 non-null object\nBoiler                          12846 non-null object\nFuel Burning                    12846 non-null object\nFuel Storage                    12846 non-null object\nStandpipe                       12846 non-null object\nSprinkler                       12846 non-null object\nFire Alarm                      12846 non-null object\nEquipment                       12846 non-null object\nFire Suppression                12846 non-null object\nCurb Cut                        12846 non-null object\nOther                           12846 non-null object\nOther Description               12846 non-null object\nApplicant's First Name          12846 non-null object\nApplicant's Last Name           12846 non-null object\nApplicant Professional Title    12846 non-null object\nApplicant License #             12846 non-null object\nProfessional Cert               6908 non-null object\nPre- Filing Date                12846 non-null object\nPaid                            11961 non-null object\nFully Paid                      11963 non-null object\nAssigned                        3817 non-null object\nApproved                        4062 non-null object\nFully Permitted                 1495 non-null object\nInitial Cost                    12846 non-null object\nTotal Est. Fee                  12846 non-null object\nFee Status                      12846 non-null object\nExisting Zoning Sqft            12846 non-null int64\nProposed Zoning Sqft            12846 non-null int64\nHorizontal Enlrgmt              231 non-null object\nVertical Enlrgmt                142 non-null object\nEnlargement SQ Footage          12846 non-null int64\nStreet Frontage                 12846 non-null int64\nExistingNo. of Stories          12846 non-null int64\nProposed No. of Stories         12846 non-null int64\nExisting Height                 12846 non-null int64\nProposed Height                 12846 non-null int64\nExisting Dwelling Units         12846 non-null object\nProposed Dwelling Units         12846 non-null object\nExisting Occupancy              12846 non-null object\nProposed Occupancy              12846 non-null object\nSite Fill                       8641 non-null object\nZoning Dist1                    11263 non-null object\nZoning Dist2                    1652 non-null object\nZoning Dist3                    88 non-null object\nSpecial District 1              3062 non-null object\nSpecial District 2              848 non-null object\nOwner Type                      0 non-null float64\nNon-Profit                      971 non-null object\nOwner's First Name              12846 non-null object\nOwner's Last Name               12846 non-null object\nOwner's Business Name           12846 non-null object\nOwner's House Number            12846 non-null object\nOwner'sHouse Street Name        12846 non-null object\nCity                            12846 non-null object\nState                           12846 non-null object\nZip                             12846 non-null int64\nOwner'sPhone #                  12846 non-null int64\nJob Description                 12699 non-null object\nDOBRunDate                      12846 non-null object\ndtypes: float64(3), int64(15), object(64)\nmemory usage: 8.0+ MB\n",
          "name": "stdout"
        }
      ]
    },
    {
      "metadata": {
        "trusted": true
      },
      "cell_type": "code",
      "source": "columns_subset = ['Job #', 'Doc #', 'Borough', 'Initial Cost', 'Total Est. Fee', 'Existing Zoning Sqft', 'Proposed Zoning Sqft', 'Enlargement SQ Footage', 'Street Frontage', 'ExistingNo. of Stories',\n       'Proposed No. of Stories', 'Existing Height', 'Proposed Height']\n\ndf_subset = df[columns_subset]\n\ndf_subset.info()",
      "execution_count": 11,
      "outputs": [
        {
          "output_type": "stream",
          "text": "<class 'pandas.core.frame.DataFrame'>\nRangeIndex: 12846 entries, 0 to 12845\nData columns (total 13 columns):\nJob #                      12846 non-null int64\nDoc #                      12846 non-null int64\nBorough                    12846 non-null object\nInitial Cost               12846 non-null object\nTotal Est. Fee             12846 non-null object\nExisting Zoning Sqft       12846 non-null int64\nProposed Zoning Sqft       12846 non-null int64\nEnlargement SQ Footage     12846 non-null int64\nStreet Frontage            12846 non-null int64\nExistingNo. of Stories     12846 non-null int64\nProposed No. of Stories    12846 non-null int64\nExisting Height            12846 non-null int64\nProposed Height            12846 non-null int64\ndtypes: int64(10), object(3)\nmemory usage: 1.3+ MB\n",
          "name": "stdout"
        }
      ]
    },
    {
      "metadata": {
        "trusted": true
      },
      "cell_type": "code",
      "source": "df_subset.head()",
      "execution_count": 12,
      "outputs": [
        {
          "output_type": "execute_result",
          "execution_count": 12,
          "data": {
            "text/html": "<div>\n<style scoped>\n    .dataframe tbody tr th:only-of-type {\n        vertical-align: middle;\n    }\n\n    .dataframe tbody tr th {\n        vertical-align: top;\n    }\n\n    .dataframe thead th {\n        text-align: right;\n    }\n</style>\n<table border=\"1\" class=\"dataframe\">\n  <thead>\n    <tr style=\"text-align: right;\">\n      <th></th>\n      <th>Job #</th>\n      <th>Doc #</th>\n      <th>Borough</th>\n      <th>Initial Cost</th>\n      <th>Total Est. Fee</th>\n      <th>Existing Zoning Sqft</th>\n      <th>Proposed Zoning Sqft</th>\n      <th>Enlargement SQ Footage</th>\n      <th>Street Frontage</th>\n      <th>ExistingNo. of Stories</th>\n      <th>Proposed No. of Stories</th>\n      <th>Existing Height</th>\n      <th>Proposed Height</th>\n    </tr>\n  </thead>\n  <tbody>\n    <tr>\n      <th>0</th>\n      <td>121577873</td>\n      <td>2</td>\n      <td>MANHATTAN</td>\n      <td>$75000.00</td>\n      <td>$986.00</td>\n      <td>0</td>\n      <td>0</td>\n      <td>0</td>\n      <td>0</td>\n      <td>0</td>\n      <td>0</td>\n      <td>0</td>\n      <td>0</td>\n    </tr>\n    <tr>\n      <th>1</th>\n      <td>520129502</td>\n      <td>1</td>\n      <td>STATEN ISLAND</td>\n      <td>$0.00</td>\n      <td>$1144.00</td>\n      <td>0</td>\n      <td>0</td>\n      <td>0</td>\n      <td>143</td>\n      <td>0</td>\n      <td>0</td>\n      <td>0</td>\n      <td>0</td>\n    </tr>\n    <tr>\n      <th>2</th>\n      <td>121601560</td>\n      <td>1</td>\n      <td>MANHATTAN</td>\n      <td>$30000.00</td>\n      <td>$522.50</td>\n      <td>0</td>\n      <td>0</td>\n      <td>0</td>\n      <td>0</td>\n      <td>5</td>\n      <td>5</td>\n      <td>54</td>\n      <td>54</td>\n    </tr>\n    <tr>\n      <th>3</th>\n      <td>121601203</td>\n      <td>1</td>\n      <td>MANHATTAN</td>\n      <td>$1500.00</td>\n      <td>$225.00</td>\n      <td>0</td>\n      <td>0</td>\n      <td>0</td>\n      <td>0</td>\n      <td>12</td>\n      <td>12</td>\n      <td>120</td>\n      <td>120</td>\n    </tr>\n    <tr>\n      <th>4</th>\n      <td>121601338</td>\n      <td>1</td>\n      <td>MANHATTAN</td>\n      <td>$19500.00</td>\n      <td>$389.50</td>\n      <td>0</td>\n      <td>0</td>\n      <td>0</td>\n      <td>0</td>\n      <td>6</td>\n      <td>6</td>\n      <td>64</td>\n      <td>64</td>\n    </tr>\n  </tbody>\n</table>\n</div>",
            "text/plain": "       Job #  Doc #        Borough Initial Cost Total Est. Fee  \\\n0  121577873      2      MANHATTAN    $75000.00        $986.00   \n1  520129502      1  STATEN ISLAND        $0.00       $1144.00   \n2  121601560      1      MANHATTAN    $30000.00        $522.50   \n3  121601203      1      MANHATTAN     $1500.00        $225.00   \n4  121601338      1      MANHATTAN    $19500.00        $389.50   \n\n   Existing Zoning Sqft  Proposed Zoning Sqft  Enlargement SQ Footage  \\\n0                     0                     0                       0   \n1                     0                     0                       0   \n2                     0                     0                       0   \n3                     0                     0                       0   \n4                     0                     0                       0   \n\n   Street Frontage  ExistingNo. of Stories  Proposed No. of Stories  \\\n0                0                       0                        0   \n1              143                       0                        0   \n2                0                       5                        5   \n3                0                      12                       12   \n4                0                       6                        6   \n\n   Existing Height  Proposed Height  \n0                0                0  \n1                0                0  \n2               54               54  \n3              120              120  \n4               64               64  "
          },
          "metadata": {}
        }
      ]
    },
    {
      "metadata": {},
      "cell_type": "markdown",
      "source": "Excellent! Notice that the columns `'Initial Cost'` and `'Total Est. Fee'` are of type object. The currency sign in the beginning of each value in these columns needs to be removed, and the columns need to be converted to numeric. In the full DataFrame, note that there are a lot of missing values. You saw in the previous exercise that there are also a lot of `0` values. Given the amount of data that is missing in the full dataset, it's highly likely that these `0` values represent missing data."
    },
    {
      "metadata": {},
      "cell_type": "markdown",
      "source": "## 1-2 Exploratory data analysis\n"
    },
    {
      "metadata": {},
      "cell_type": "markdown",
      "source": "## Calculating summary statistics\nYou'll now use the `.describe()` method to calculate summary statistics of your data.\n\nIn this exercise, an adapted DataFrame has been prepared for you to inspect, with fewer columns to increase readability in the IPython Shell.\n\nThis adapted DataFrame has been pre-loaded as `df2`. Your job is to use the `.describe()` method on it in the IPython Shell and select the statement below that is **False**."
    },
    {
      "metadata": {
        "trusted": true
      },
      "cell_type": "code",
      "source": "df2 = df[['Street Frontage', 'Existing Height', 'Proposed Height']]\ndf2.describe()",
      "execution_count": 13,
      "outputs": [
        {
          "output_type": "execute_result",
          "execution_count": 13,
          "data": {
            "text/html": "<div>\n<style scoped>\n    .dataframe tbody tr th:only-of-type {\n        vertical-align: middle;\n    }\n\n    .dataframe tbody tr th {\n        vertical-align: top;\n    }\n\n    .dataframe thead th {\n        text-align: right;\n    }\n</style>\n<table border=\"1\" class=\"dataframe\">\n  <thead>\n    <tr style=\"text-align: right;\">\n      <th></th>\n      <th>Street Frontage</th>\n      <th>Existing Height</th>\n      <th>Proposed Height</th>\n    </tr>\n  </thead>\n  <tbody>\n    <tr>\n      <th>count</th>\n      <td>12846.000000</td>\n      <td>12846.000000</td>\n      <td>12846.000000</td>\n    </tr>\n    <tr>\n      <th>mean</th>\n      <td>3.069360</td>\n      <td>94.022809</td>\n      <td>94.917562</td>\n    </tr>\n    <tr>\n      <th>std</th>\n      <td>37.246034</td>\n      <td>146.917360</td>\n      <td>146.580666</td>\n    </tr>\n    <tr>\n      <th>min</th>\n      <td>0.000000</td>\n      <td>0.000000</td>\n      <td>0.000000</td>\n    </tr>\n    <tr>\n      <th>25%</th>\n      <td>0.000000</td>\n      <td>20.000000</td>\n      <td>21.000000</td>\n    </tr>\n    <tr>\n      <th>50%</th>\n      <td>0.000000</td>\n      <td>45.000000</td>\n      <td>45.000000</td>\n    </tr>\n    <tr>\n      <th>75%</th>\n      <td>0.000000</td>\n      <td>105.000000</td>\n      <td>107.000000</td>\n    </tr>\n    <tr>\n      <th>max</th>\n      <td>3160.000000</td>\n      <td>4200.000000</td>\n      <td>4200.000000</td>\n    </tr>\n  </tbody>\n</table>\n</div>",
            "text/plain": "       Street Frontage  Existing Height  Proposed Height\ncount     12846.000000     12846.000000     12846.000000\nmean          3.069360        94.022809        94.917562\nstd          37.246034       146.917360       146.580666\nmin           0.000000         0.000000         0.000000\n25%           0.000000        20.000000        21.000000\n50%           0.000000        45.000000        45.000000\n75%           0.000000       105.000000       107.000000\nmax        3160.000000      4200.000000      4200.000000"
          },
          "metadata": {}
        }
      ]
    },
    {
      "metadata": {},
      "cell_type": "markdown",
      "source": "**Possible Answers**\n- [ ] The mean of 'Existing Height' is 94.022809.\n- [ ] There are 12846 entries in the DataFrame.\n- [x] The standard deviation of 'Street Frontage' is 11.874080.\n- [ ] The maximum of 'Proposed Height' is 4200."
    },
    {
      "metadata": {},
      "cell_type": "markdown",
      "source": "Well done! The standard deviation of `'Street Frontage'` is actually `37.246034`."
    },
    {
      "metadata": {},
      "cell_type": "markdown",
      "source": "## Frequency counts for categorical data\nAs you've seen, `.describe()` can only be used on numeric columns. So how can you diagnose data issues when you have categorical data? One way is by using the `.value_counts()` method, which returns the frequency counts for each unique value in a column!\n\nThis method also has an optional parameter called `dropna`which is `True` by default. What this means is if you have missing data in a column, it will not give a frequency count of them. You want to set the `dropna` column to `False` so if there are missing values in a column, it will give you the frequency counts.\n\nIn this exercise, you're going to look at the `'Borough'`, `'State'`, and `'Site Fill'` columns to make sure all the values in there are valid. When looking at the output, do a sanity check: Are all values in the `'State'` column from NY, for example? Since the dataset consists of applications filed in NY, you would expect this to be the case."
    },
    {
      "metadata": {},
      "cell_type": "markdown",
      "source": "- Print the value counts for:\n    - The `'Borough'` column.\n    - The `'State'` column.\n    - The `'Site Fill'` column."
    },
    {
      "metadata": {
        "trusted": true
      },
      "cell_type": "code",
      "source": "# Print the value counts for 'Borough'\n# Use square bracket [] method to select a single column\ndf['Borough'].value_counts(dropna=False)\n\n# df.Borough.value_counts(dropna=False)",
      "execution_count": 18,
      "outputs": [
        {
          "output_type": "execute_result",
          "execution_count": 18,
          "data": {
            "text/plain": "MANHATTAN        6310\nBROOKLYN         2866\nQUEENS           2121\nBRONX             974\nSTATEN ISLAND     575\nName: Borough, dtype: int64"
          },
          "metadata": {}
        }
      ]
    },
    {
      "metadata": {
        "trusted": true
      },
      "cell_type": "code",
      "source": "# Use .dot method to select a single column\ndf.Borough.value_counts(dropna=False)",
      "execution_count": 19,
      "outputs": [
        {
          "output_type": "execute_result",
          "execution_count": 19,
          "data": {
            "text/plain": "MANHATTAN        6310\nBROOKLYN         2866\nQUEENS           2121\nBRONX             974\nSTATEN ISLAND     575\nName: Borough, dtype: int64"
          },
          "metadata": {}
        }
      ]
    },
    {
      "metadata": {
        "trusted": true
      },
      "cell_type": "code",
      "source": "# Print the value_counts for 'State'\nprint(df['State'].value_counts(dropna=False))\n",
      "execution_count": 15,
      "outputs": [
        {
          "output_type": "stream",
          "text": "NY    12391\nNJ      241\nPA       38\nCA       20\nOH       19\nFL       17\nIL       17\nCT       16\nTX       13\nTN       10\nDC        7\nMD        7\nKS        6\nGA        6\nMA        6\nVA        5\nCO        4\nSC        3\nAZ        3\nMN        3\nWI        3\nNC        2\nUT        2\nRI        2\nVT        1\nNM        1\nIN        1\nMI        1\nWA        1\nName: State, dtype: int64\n",
          "name": "stdout"
        }
      ]
    },
    {
      "metadata": {
        "trusted": true
      },
      "cell_type": "code",
      "source": "# Print the value counts for 'Site Fill'\nprint(df['Site Fill'].value_counts(dropna=False))",
      "execution_count": 16,
      "outputs": [
        {
          "output_type": "stream",
          "text": "NOT APPLICABLE                              7806\nNaN                                         4205\nON-SITE                                      519\nOFF-SITE                                     186\nUSE UNDER 300 CU.YD                          130\nName: Site Fill, dtype: int64\n",
          "name": "stdout"
        }
      ]
    },
    {
      "metadata": {},
      "cell_type": "markdown",
      "source": "Fantastic work! Notice how not all values in the `'State'` column are NY. This is an interesting find, as this data is supposed to consist of applications filed in NYC. Curiously, all the 'Borough' values are correct. A good start as to why this may be the case would be to find and look at the codebook for this dataset. Also, for the `'Site Fill'` column, you may or may not need to recode the NOT APPLICABLE values to NaN in your final analysis."
    },
    {
      "metadata": {},
      "cell_type": "markdown",
      "source": "## 1-3 Visual exploratory data analysis\n"
    },
    {
      "metadata": {},
      "cell_type": "markdown",
      "source": "## Visualizing single variables with histograms\nUp until now, you've been looking at descriptive statistics of your data. One of the best ways to confirm what the numbers are telling you is to plot and visualize the data.\n\nYou'll start by visualizing single variables using a histogram for numeric values. The column you will work on in this exercise is `'Existing Zoning Sqft'`.\n\nThe `.plot()` method allows you to create a plot of each column of a DataFrame. The kind parameter allows you to specify the type of plot to use - `kind='hist'`, for example, plots a histogram.\n\nIn the IPython Shell, begin by computing summary statistics for the `'Existing Zoning Sqft'` column using the `.describe()` method. You'll notice that there are extremely large differences between the min and max values, and the plot will need to be adjusted accordingly. In such cases, it's good to look at the plot on a `log` scale. The keyword arguments `logx=True` or `logy=True` can be passed in to `.plot()` depending on which axis you want to rescale.\n\nFinally, note that Python will render a plot such that the axis will hold all the information. That is, if you end up with large amounts of whitespace in your plot, it indicates counts or values too small to render."
    },
    {
      "metadata": {},
      "cell_type": "markdown",
      "source": "**Instructions**\n- Import `matplotlib.pyplot` as `plt`.\n- Create a histogram of the `'Existing Zoning Sqft'` column. - - Rotate the axis labels by `70` degrees and use a `log` scale for both axes.\nDisplay the histogram using `plt.show()`.\n"
    },
    {
      "metadata": {
        "trusted": true
      },
      "cell_type": "code",
      "source": "# Import matplotlib.pyplot\nimport matplotlib.pyplot as plt\n%matplotlib inline\nplt.rcParams[\"figure.figsize\"] = (10,8)\n\n# Describe the column\nprint(df['Existing Zoning Sqft'].describe())\n\n# Plot the histogram\ndf['Existing Zoning Sqft'].plot(kind='hist', rot=70, logx=True, logy=True)\n\n# Display the histogram\nplt.show()",
      "execution_count": 21,
      "outputs": [
        {
          "output_type": "stream",
          "text": "count    1.284600e+04\nmean     1.439973e+03\nstd      3.860757e+04\nmin      0.000000e+00\n25%      0.000000e+00\n50%      0.000000e+00\n75%      0.000000e+00\nmax      2.873107e+06\nName: Existing Zoning Sqft, dtype: float64\n",
          "name": "stdout"
        },
        {
          "output_type": "display_data",
          "data": {
            "image/png": "[encoded data removed]",
            "text/plain": "<Figure size 720x576 with 1 Axes>"
          },
          "metadata": {
            "needs_background": "light"
          }
        }
      ]
    },
    {
      "metadata": {},
      "cell_type": "markdown",
      "source": "Excellent work! While visualizing your data is a great way to understand it, keep in mind that no one technique is better than another. As you saw here, you still needed to look at the summary statistics to help understand your data better. You expected a large amount of counts on the left side of the plot because the 25th, 50th, and 75th percentiles have a value of 0. The plot shows us that there are barely any counts near the max value, signifying an outlier."
    },
    {
      "metadata": {
        "trusted": true
      },
      "cell_type": "code",
      "source": "# Create the boxplot\n\ndf.boxplot(column='Initial Cost', by='Borough', rot=90)\n\n# Display the plot\nplt.show()",
      "execution_count": 28,
      "outputs": [
        {
          "output_type": "error",
          "ename": "TypeError",
          "evalue": "unsupported operand type(s) for /: 'str' and 'int'",
          "traceback": [
            "\u001b[0;31m---------------------------------------------------------------------------\u001b[0m",
            "\u001b[0;31mTypeError\u001b[0m                                 Traceback (most recent call last)",
            "\u001b[0;32m<ipython-input-28-5b2e967be030>\u001b[0m in \u001b[0;36m<module>\u001b[0;34m\u001b[0m\n\u001b[1;32m      1\u001b[0m \u001b[0;31m# Create the boxplot\u001b[0m\u001b[0;34m\u001b[0m\u001b[0;34m\u001b[0m\u001b[0m\n\u001b[1;32m      2\u001b[0m \u001b[0;34m\u001b[0m\u001b[0m\n\u001b[0;32m----> 3\u001b[0;31m \u001b[0mdf\u001b[0m\u001b[0;34m.\u001b[0m\u001b[0mboxplot\u001b[0m\u001b[0;34m(\u001b[0m\u001b[0mcolumn\u001b[0m\u001b[0;34m=\u001b[0m\u001b[0;34m'Initial Cost'\u001b[0m\u001b[0;34m,\u001b[0m \u001b[0mby\u001b[0m\u001b[0;34m=\u001b[0m\u001b[0;34m'Borough'\u001b[0m\u001b[0;34m,\u001b[0m \u001b[0mrot\u001b[0m\u001b[0;34m=\u001b[0m\u001b[0;36m90\u001b[0m\u001b[0;34m)\u001b[0m\u001b[0;34m\u001b[0m\u001b[0m\n\u001b[0m\u001b[1;32m      4\u001b[0m \u001b[0;34m\u001b[0m\u001b[0m\n\u001b[1;32m      5\u001b[0m \u001b[0;31m# Display the plot\u001b[0m\u001b[0;34m\u001b[0m\u001b[0;34m\u001b[0m\u001b[0m\n",
            "\u001b[0;32m~/anaconda3_501/lib/python3.6/site-packages/pandas/plotting/_core.py\u001b[0m in \u001b[0;36mboxplot_frame\u001b[0;34m(self, column, by, ax, fontsize, rot, grid, figsize, layout, return_type, **kwds)\u001b[0m\n\u001b[1;32m   2255\u001b[0m     ax = boxplot(self, column=column, by=by, ax=ax, fontsize=fontsize,\n\u001b[1;32m   2256\u001b[0m                  \u001b[0mgrid\u001b[0m\u001b[0;34m=\u001b[0m\u001b[0mgrid\u001b[0m\u001b[0;34m,\u001b[0m \u001b[0mrot\u001b[0m\u001b[0;34m=\u001b[0m\u001b[0mrot\u001b[0m\u001b[0;34m,\u001b[0m \u001b[0mfigsize\u001b[0m\u001b[0;34m=\u001b[0m\u001b[0mfigsize\u001b[0m\u001b[0;34m,\u001b[0m \u001b[0mlayout\u001b[0m\u001b[0;34m=\u001b[0m\u001b[0mlayout\u001b[0m\u001b[0;34m,\u001b[0m\u001b[0;34m\u001b[0m\u001b[0m\n\u001b[0;32m-> 2257\u001b[0;31m                  return_type=return_type, **kwds)\n\u001b[0m\u001b[1;32m   2258\u001b[0m     \u001b[0mplt\u001b[0m\u001b[0;34m.\u001b[0m\u001b[0mdraw_if_interactive\u001b[0m\u001b[0;34m(\u001b[0m\u001b[0;34m)\u001b[0m\u001b[0;34m\u001b[0m\u001b[0m\n\u001b[1;32m   2259\u001b[0m     \u001b[0;32mreturn\u001b[0m \u001b[0max\u001b[0m\u001b[0;34m\u001b[0m\u001b[0m\n",
            "\u001b[0;32m~/anaconda3_501/lib/python3.6/site-packages/pandas/plotting/_core.py\u001b[0m in \u001b[0;36mboxplot\u001b[0;34m(data, column, by, ax, fontsize, rot, grid, figsize, layout, return_type, **kwds)\u001b[0m\n\u001b[1;32m   2224\u001b[0m                                          \u001b[0mby\u001b[0m\u001b[0;34m=\u001b[0m\u001b[0mby\u001b[0m\u001b[0;34m,\u001b[0m \u001b[0mgrid\u001b[0m\u001b[0;34m=\u001b[0m\u001b[0mgrid\u001b[0m\u001b[0;34m,\u001b[0m \u001b[0mfigsize\u001b[0m\u001b[0;34m=\u001b[0m\u001b[0mfigsize\u001b[0m\u001b[0;34m,\u001b[0m\u001b[0;34m\u001b[0m\u001b[0m\n\u001b[1;32m   2225\u001b[0m                                          \u001b[0max\u001b[0m\u001b[0;34m=\u001b[0m\u001b[0max\u001b[0m\u001b[0;34m,\u001b[0m \u001b[0mlayout\u001b[0m\u001b[0;34m=\u001b[0m\u001b[0mlayout\u001b[0m\u001b[0;34m,\u001b[0m\u001b[0;34m\u001b[0m\u001b[0m\n\u001b[0;32m-> 2226\u001b[0;31m                                          return_type=return_type)\n\u001b[0m\u001b[1;32m   2227\u001b[0m     \u001b[0;32melse\u001b[0m\u001b[0;34m:\u001b[0m\u001b[0;34m\u001b[0m\u001b[0m\n\u001b[1;32m   2228\u001b[0m         \u001b[0;32mif\u001b[0m \u001b[0mreturn_type\u001b[0m \u001b[0;32mis\u001b[0m \u001b[0;32mNone\u001b[0m\u001b[0;34m:\u001b[0m\u001b[0;34m\u001b[0m\u001b[0m\n",
            "\u001b[0;32m~/anaconda3_501/lib/python3.6/site-packages/pandas/plotting/_core.py\u001b[0m in \u001b[0;36m_grouped_plot_by_column\u001b[0;34m(plotf, data, columns, by, numeric_only, grid, figsize, ax, layout, return_type, **kwargs)\u001b[0m\n\u001b[1;32m   2681\u001b[0m         \u001b[0mgp_col\u001b[0m \u001b[0;34m=\u001b[0m \u001b[0mgrouped\u001b[0m\u001b[0;34m[\u001b[0m\u001b[0mcol\u001b[0m\u001b[0;34m]\u001b[0m\u001b[0;34m\u001b[0m\u001b[0m\n\u001b[1;32m   2682\u001b[0m         \u001b[0mkeys\u001b[0m\u001b[0;34m,\u001b[0m \u001b[0mvalues\u001b[0m \u001b[0;34m=\u001b[0m \u001b[0mzip\u001b[0m\u001b[0;34m(\u001b[0m\u001b[0;34m*\u001b[0m\u001b[0mgp_col\u001b[0m\u001b[0;34m)\u001b[0m\u001b[0;34m\u001b[0m\u001b[0m\n\u001b[0;32m-> 2683\u001b[0;31m         \u001b[0mre_plotf\u001b[0m \u001b[0;34m=\u001b[0m \u001b[0mplotf\u001b[0m\u001b[0;34m(\u001b[0m\u001b[0mkeys\u001b[0m\u001b[0;34m,\u001b[0m \u001b[0mvalues\u001b[0m\u001b[0;34m,\u001b[0m \u001b[0max\u001b[0m\u001b[0;34m,\u001b[0m \u001b[0;34m**\u001b[0m\u001b[0mkwargs\u001b[0m\u001b[0;34m)\u001b[0m\u001b[0;34m\u001b[0m\u001b[0m\n\u001b[0m\u001b[1;32m   2684\u001b[0m         \u001b[0max\u001b[0m\u001b[0;34m.\u001b[0m\u001b[0mset_title\u001b[0m\u001b[0;34m(\u001b[0m\u001b[0mcol\u001b[0m\u001b[0;34m)\u001b[0m\u001b[0;34m\u001b[0m\u001b[0m\n\u001b[1;32m   2685\u001b[0m         \u001b[0max\u001b[0m\u001b[0;34m.\u001b[0m\u001b[0mset_xlabel\u001b[0m\u001b[0;34m(\u001b[0m\u001b[0mpprint_thing\u001b[0m\u001b[0;34m(\u001b[0m\u001b[0mby\u001b[0m\u001b[0;34m)\u001b[0m\u001b[0;34m)\u001b[0m\u001b[0;34m\u001b[0m\u001b[0m\n",
            "\u001b[0;32m~/anaconda3_501/lib/python3.6/site-packages/pandas/plotting/_core.py\u001b[0m in \u001b[0;36mplot_group\u001b[0;34m(keys, values, ax)\u001b[0m\n\u001b[1;32m   2192\u001b[0m         \u001b[0mkeys\u001b[0m \u001b[0;34m=\u001b[0m \u001b[0;34m[\u001b[0m\u001b[0mpprint_thing\u001b[0m\u001b[0;34m(\u001b[0m\u001b[0mx\u001b[0m\u001b[0;34m)\u001b[0m \u001b[0;32mfor\u001b[0m \u001b[0mx\u001b[0m \u001b[0;32min\u001b[0m \u001b[0mkeys\u001b[0m\u001b[0;34m]\u001b[0m\u001b[0;34m\u001b[0m\u001b[0m\n\u001b[1;32m   2193\u001b[0m         \u001b[0mvalues\u001b[0m \u001b[0;34m=\u001b[0m \u001b[0;34m[\u001b[0m\u001b[0mnp\u001b[0m\u001b[0;34m.\u001b[0m\u001b[0masarray\u001b[0m\u001b[0;34m(\u001b[0m\u001b[0mremove_na_arraylike\u001b[0m\u001b[0;34m(\u001b[0m\u001b[0mv\u001b[0m\u001b[0;34m)\u001b[0m\u001b[0;34m)\u001b[0m \u001b[0;32mfor\u001b[0m \u001b[0mv\u001b[0m \u001b[0;32min\u001b[0m \u001b[0mvalues\u001b[0m\u001b[0;34m]\u001b[0m\u001b[0;34m\u001b[0m\u001b[0m\n\u001b[0;32m-> 2194\u001b[0;31m         \u001b[0mbp\u001b[0m \u001b[0;34m=\u001b[0m \u001b[0max\u001b[0m\u001b[0;34m.\u001b[0m\u001b[0mboxplot\u001b[0m\u001b[0;34m(\u001b[0m\u001b[0mvalues\u001b[0m\u001b[0;34m,\u001b[0m \u001b[0;34m**\u001b[0m\u001b[0mkwds\u001b[0m\u001b[0;34m)\u001b[0m\u001b[0;34m\u001b[0m\u001b[0m\n\u001b[0m\u001b[1;32m   2195\u001b[0m         \u001b[0;32mif\u001b[0m \u001b[0mfontsize\u001b[0m \u001b[0;32mis\u001b[0m \u001b[0;32mnot\u001b[0m \u001b[0;32mNone\u001b[0m\u001b[0;34m:\u001b[0m\u001b[0;34m\u001b[0m\u001b[0m\n\u001b[1;32m   2196\u001b[0m             \u001b[0max\u001b[0m\u001b[0;34m.\u001b[0m\u001b[0mtick_params\u001b[0m\u001b[0;34m(\u001b[0m\u001b[0maxis\u001b[0m\u001b[0;34m=\u001b[0m\u001b[0;34m'both'\u001b[0m\u001b[0;34m,\u001b[0m \u001b[0mlabelsize\u001b[0m\u001b[0;34m=\u001b[0m\u001b[0mfontsize\u001b[0m\u001b[0;34m)\u001b[0m\u001b[0;34m\u001b[0m\u001b[0m\n",
            "\u001b[0;32m~/anaconda3_501/lib/python3.6/site-packages/matplotlib/__init__.py\u001b[0m in \u001b[0;36minner\u001b[0;34m(ax, data, *args, **kwargs)\u001b[0m\n\u001b[1;32m   1783\u001b[0m                         \u001b[0;34m\"the Matplotlib list!)\"\u001b[0m \u001b[0;34m%\u001b[0m \u001b[0;34m(\u001b[0m\u001b[0mlabel_namer\u001b[0m\u001b[0;34m,\u001b[0m \u001b[0mfunc\u001b[0m\u001b[0;34m.\u001b[0m\u001b[0m__name__\u001b[0m\u001b[0;34m)\u001b[0m\u001b[0;34m,\u001b[0m\u001b[0;34m\u001b[0m\u001b[0m\n\u001b[1;32m   1784\u001b[0m                         RuntimeWarning, stacklevel=2)\n\u001b[0;32m-> 1785\u001b[0;31m             \u001b[0;32mreturn\u001b[0m \u001b[0mfunc\u001b[0m\u001b[0;34m(\u001b[0m\u001b[0max\u001b[0m\u001b[0;34m,\u001b[0m \u001b[0;34m*\u001b[0m\u001b[0margs\u001b[0m\u001b[0;34m,\u001b[0m \u001b[0;34m**\u001b[0m\u001b[0mkwargs\u001b[0m\u001b[0;34m)\u001b[0m\u001b[0;34m\u001b[0m\u001b[0m\n\u001b[0m\u001b[1;32m   1786\u001b[0m \u001b[0;34m\u001b[0m\u001b[0m\n\u001b[1;32m   1787\u001b[0m         inner.__doc__ = _add_data_doc(inner.__doc__,\n",
            "\u001b[0;32m~/anaconda3_501/lib/python3.6/site-packages/matplotlib/axes/_axes.py\u001b[0m in \u001b[0;36mboxplot\u001b[0;34m(self, x, notch, sym, vert, whis, positions, widths, patch_artist, bootstrap, usermedians, conf_intervals, meanline, showmeans, showcaps, showbox, showfliers, boxprops, labels, flierprops, medianprops, meanprops, capprops, whiskerprops, manage_xticks, autorange, zorder)\u001b[0m\n\u001b[1;32m   3492\u001b[0m \u001b[0;34m\u001b[0m\u001b[0m\n\u001b[1;32m   3493\u001b[0m         bxpstats = cbook.boxplot_stats(x, whis=whis, bootstrap=bootstrap,\n\u001b[0;32m-> 3494\u001b[0;31m                                        labels=labels, autorange=autorange)\n\u001b[0m\u001b[1;32m   3495\u001b[0m         \u001b[0;32mif\u001b[0m \u001b[0mnotch\u001b[0m \u001b[0;32mis\u001b[0m \u001b[0;32mNone\u001b[0m\u001b[0;34m:\u001b[0m\u001b[0;34m\u001b[0m\u001b[0m\n\u001b[1;32m   3496\u001b[0m             \u001b[0mnotch\u001b[0m \u001b[0;34m=\u001b[0m \u001b[0mrcParams\u001b[0m\u001b[0;34m[\u001b[0m\u001b[0;34m'boxplot.notch'\u001b[0m\u001b[0;34m]\u001b[0m\u001b[0;34m\u001b[0m\u001b[0m\n",
            "\u001b[0;32m~/anaconda3_501/lib/python3.6/site-packages/matplotlib/cbook/__init__.py\u001b[0m in \u001b[0;36mboxplot_stats\u001b[0;34m(X, whis, bootstrap, labels, autorange)\u001b[0m\n\u001b[1;32m   1213\u001b[0m \u001b[0;34m\u001b[0m\u001b[0m\n\u001b[1;32m   1214\u001b[0m         \u001b[0;31m# arithmetic mean\u001b[0m\u001b[0;34m\u001b[0m\u001b[0;34m\u001b[0m\u001b[0m\n\u001b[0;32m-> 1215\u001b[0;31m         \u001b[0mstats\u001b[0m\u001b[0;34m[\u001b[0m\u001b[0;34m'mean'\u001b[0m\u001b[0;34m]\u001b[0m \u001b[0;34m=\u001b[0m \u001b[0mnp\u001b[0m\u001b[0;34m.\u001b[0m\u001b[0mmean\u001b[0m\u001b[0;34m(\u001b[0m\u001b[0mx\u001b[0m\u001b[0;34m)\u001b[0m\u001b[0;34m\u001b[0m\u001b[0m\n\u001b[0m\u001b[1;32m   1216\u001b[0m \u001b[0;34m\u001b[0m\u001b[0m\n\u001b[1;32m   1217\u001b[0m         \u001b[0;31m# medians and quartiles\u001b[0m\u001b[0;34m\u001b[0m\u001b[0;34m\u001b[0m\u001b[0m\n",
            "\u001b[0;32m~/anaconda3_501/lib/python3.6/site-packages/numpy/core/fromnumeric.py\u001b[0m in \u001b[0;36mmean\u001b[0;34m(a, axis, dtype, out, keepdims)\u001b[0m\n\u001b[1;32m   3116\u001b[0m \u001b[0;34m\u001b[0m\u001b[0m\n\u001b[1;32m   3117\u001b[0m     return _methods._mean(a, axis=axis, dtype=dtype,\n\u001b[0;32m-> 3118\u001b[0;31m                           out=out, **kwargs)\n\u001b[0m\u001b[1;32m   3119\u001b[0m \u001b[0;34m\u001b[0m\u001b[0m\n\u001b[1;32m   3120\u001b[0m \u001b[0;34m\u001b[0m\u001b[0m\n",
            "\u001b[0;32m~/anaconda3_501/lib/python3.6/site-packages/numpy/core/_methods.py\u001b[0m in \u001b[0;36m_mean\u001b[0;34m(a, axis, dtype, out, keepdims)\u001b[0m\n\u001b[1;32m     85\u001b[0m             \u001b[0mret\u001b[0m \u001b[0;34m=\u001b[0m \u001b[0mret\u001b[0m\u001b[0;34m.\u001b[0m\u001b[0mdtype\u001b[0m\u001b[0;34m.\u001b[0m\u001b[0mtype\u001b[0m\u001b[0;34m(\u001b[0m\u001b[0mret\u001b[0m \u001b[0;34m/\u001b[0m \u001b[0mrcount\u001b[0m\u001b[0;34m)\u001b[0m\u001b[0;34m\u001b[0m\u001b[0m\n\u001b[1;32m     86\u001b[0m     \u001b[0;32melse\u001b[0m\u001b[0;34m:\u001b[0m\u001b[0;34m\u001b[0m\u001b[0m\n\u001b[0;32m---> 87\u001b[0;31m         \u001b[0mret\u001b[0m \u001b[0;34m=\u001b[0m \u001b[0mret\u001b[0m \u001b[0;34m/\u001b[0m \u001b[0mrcount\u001b[0m\u001b[0;34m\u001b[0m\u001b[0m\n\u001b[0m\u001b[1;32m     88\u001b[0m \u001b[0;34m\u001b[0m\u001b[0m\n\u001b[1;32m     89\u001b[0m     \u001b[0;32mreturn\u001b[0m \u001b[0mret\u001b[0m\u001b[0;34m\u001b[0m\u001b[0m\n",
            "\u001b[0;31mTypeError\u001b[0m: unsupported operand type(s) for /: 'str' and 'int'"
          ]
        },
        {
          "output_type": "display_data",
          "data": {
            "image/png": "[encoded data removed]",
            "text/plain": "<Figure size 720x576 with 1 Axes>"
          },
          "metadata": {
            "needs_background": "light"
          }
        }
      ]
    },
    {
      "metadata": {
        "trusted": true
      },
      "cell_type": "code",
      "source": "df.columns\n\n",
      "execution_count": 27,
      "outputs": [
        {
          "output_type": "execute_result",
          "execution_count": 27,
          "data": {
            "text/plain": "Index(['Job #', 'Doc #', 'Borough', 'House #', 'Street Name', 'Block', 'Lot',\n       'Bin #', 'Job Type', 'Job Status', 'Job Status Descrp',\n       'Latest Action Date', 'Building Type', 'Community - Board', 'Cluster',\n       'Landmarked', 'Adult Estab', 'Loft Board', 'City Owned', 'Little e',\n       'PC Filed', 'eFiling Filed', 'Plumbing', 'Mechanical', 'Boiler',\n       'Fuel Burning', 'Fuel Storage', 'Standpipe', 'Sprinkler', 'Fire Alarm',\n       'Equipment', 'Fire Suppression', 'Curb Cut', 'Other',\n       'Other Description', 'Applicant's First Name', 'Applicant's Last Name',\n       'Applicant Professional Title', 'Applicant License #',\n       'Professional Cert', 'Pre- Filing Date', 'Paid', 'Fully Paid',\n       'Assigned', 'Approved', 'Fully Permitted', 'Initial Cost',\n       'Total Est. Fee', 'Fee Status', 'Existing Zoning Sqft',\n       'Proposed Zoning Sqft', 'Horizontal Enlrgmt', 'Vertical Enlrgmt',\n       'Enlargement SQ Footage', 'Street Frontage', 'ExistingNo. of Stories',\n       'Proposed No. of Stories', 'Existing Height', 'Proposed Height',\n       'Existing Dwelling Units', 'Proposed Dwelling Units',\n       'Existing Occupancy', 'Proposed Occupancy', 'Site Fill', 'Zoning Dist1',\n       'Zoning Dist2', 'Zoning Dist3', 'Special District 1',\n       'Special District 2', 'Owner Type', 'Non-Profit', 'Owner's First Name',\n       'Owner's Last Name', 'Owner's Business Name', 'Owner's House Number',\n       'Owner'sHouse Street Name', 'City ', 'State', 'Zip', 'Owner'sPhone #',\n       'Job Description', 'DOBRunDate'],\n      dtype='object')"
          },
          "metadata": {}
        }
      ]
    },
    {
      "metadata": {
        "trusted": true
      },
      "cell_type": "code",
      "source": "",
      "execution_count": null,
      "outputs": []
    }
  ],
  "metadata": {
    "kernelspec": {
      "name": "python36",
      "display_name": "Python 3.6",
      "language": "python"
    },
    "language_info": {
      "mimetype": "text/x-python",
      "nbconvert_exporter": "python",
      "name": "python",
      "pygments_lexer": "ipython3",
      "version": "3.6.6",
      "file_extension": ".py",
      "codemirror_mode": {
        "version": 3,
        "name": "ipython"
      }
    }
  },
  "nbformat": 4,
  "nbformat_minor": 2
}