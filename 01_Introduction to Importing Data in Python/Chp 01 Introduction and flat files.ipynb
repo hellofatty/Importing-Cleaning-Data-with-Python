{
  "cells": [
    {
      "metadata": {},
      "cell_type": "markdown",
      "source": "# Introduction to Importing Data in Python\n### Course Description\n\nAs a data scientist, you will need to clean data, wrangle and munge it, visualize it, build predictive models, and interpret these models. Before you can do so, however, you will need to know how to get data into Python. In this course, you'll learn the many ways to import data into Python: from flat files such as .txt and .csv; from files native to other software such as Excel spreadsheets, Stata, SAS, and MATLAB files; and from relational databases such as SQLite and PostgreSQL."
    },
    {
      "metadata": {},
      "cell_type": "markdown",
      "source": "## Chp 01 Introduction and flat files\n\nIn this chapter, you'll learn how to import data into Python from all types of flat files, which are a simple and prevalent form of data storage. You've previously learned how to use NumPy and pandas—you will learn how to use these packages to import flat files and customize your imports."
    },
    {
      "metadata": {},
      "cell_type": "markdown",
      "source": "## 1-1 Welcome to the Course!"
    },
    {
      "metadata": {
        "collapsed": true
      },
      "cell_type": "markdown",
      "source": "###  Exploring your working directory\nIn order to import data into Python, you should first have an idea of what files are in your working directory.\n\nIPython, which is running on DataCamp's servers, has a bunch of cool commands, including its [**magic commands**](https://ipython.readthedocs.io/en/stable/overview.html). For example, starting a line with `!` gives you complete system shell access. This means that the IPython magic command `!` `ls` will display the contents of your current directory. Your task is to use the IPython magic command `! ls` to check out the contents of your current directory and answer the following question: which of the following files is in your working directory?"
    },
    {
      "metadata": {
        "trusted": true
      },
      "cell_type": "code",
      "source": "!ls",
      "execution_count": 13,
      "outputs": [
        {
          "output_type": "stream",
          "text": "Chp 01 Introduction and flat files.ipynb\t  datasets\r\nChp 2 Importing data from other file types.ipynb\r\n",
          "name": "stdout"
        }
      ]
    },
    {
      "metadata": {},
      "cell_type": "markdown",
      "source": "### Importing entire text files\nIn this exercise, you'll be working with the file `moby_dick.txt`. It is a text file that contains the opening sentences of Moby Dick, one of the great American novels! Here you'll get experience opening a text file, printing its contents to the shell and, finally, closing it."
    },
    {
      "metadata": {},
      "cell_type": "markdown",
      "source": "**Instructions**\n- Open the file `moby_dick.txt` as read-only and store it in the variable `file`. Make sure to pass the filename enclosed in quotation marks ''.\n- Print the contents of the file to the shell using the `print()` function. As Hugo showed in the video, you'll need to apply the method `read()` to the object file.\n- Check whether the file is closed by executing `print(file.closed)`.\n- Close the file using the `close()` method.\n- Check again that the file is closed as you did above."
    },
    {
      "metadata": {
        "trusted": true
      },
      "cell_type": "code",
      "source": "# Open a file: file\nfile = open('datasets/moby_dick.txt', mode = 'r')\n\n# Print it\ntext = file.read()\nprint(text)\n\n# Check whether file is closed\nprint(file.closed)\n\n# Close file\nfile.close()\n\n# Check whether file is closed\nprint(file.closed)",
      "execution_count": 8,
      "outputs": [
        {
          "output_type": "stream",
          "text": "CHAPTER 1. Loomings.\n\nCall me Ishmael. Some years ago--never mind how long precisely--having\nlittle or no money in my purse, and nothing particular to interest me on\nshore, I thought I would sail about a little and see the watery part of\nthe world. It is a way I have of driving off the spleen and regulating\nthe circulation. Whenever I find myself growing grim about the mouth;\nwhenever it is a damp, drizzly November in my soul; whenever I find\nmyself involuntarily pausing before coffin warehouses, and bringing up\nthe rear of every funeral I meet; and especially whenever my hypos get\nsuch an upper hand of me, that it requires a strong moral principle to\nprevent me from deliberately stepping into the street, and methodically\nknocking people's hats off--then, I account it high time to get to sea\nas soon as I can. This is my substitute for pistol and ball. With a\nphilosophical flourish Cato throws himself upon his sword; I quietly\ntake to the ship. There is nothing surprising in this. If they but knew\nit, almost all men in their degree, some time or other, cherish very\nnearly the same feelings towards the ocean with me.\nFalse\nTrue\n",
          "name": "stdout"
        }
      ]
    },
    {
      "metadata": {
        "trusted": true
      },
      "cell_type": "code",
      "source": "# Better Practice. you don't need to manually close the file\nwith open('datasets/moby_dick.txt', 'r') as file:\n    print(file.read())\n    \n# Check whether file is closed\nprint(file.closed)",
      "execution_count": 7,
      "outputs": [
        {
          "output_type": "stream",
          "text": "CHAPTER 1. Loomings.\n\nCall me Ishmael. Some years ago--never mind how long precisely--having\nlittle or no money in my purse, and nothing particular to interest me on\nshore, I thought I would sail about a little and see the watery part of\nthe world. It is a way I have of driving off the spleen and regulating\nthe circulation. Whenever I find myself growing grim about the mouth;\nwhenever it is a damp, drizzly November in my soul; whenever I find\nmyself involuntarily pausing before coffin warehouses, and bringing up\nthe rear of every funeral I meet; and especially whenever my hypos get\nsuch an upper hand of me, that it requires a strong moral principle to\nprevent me from deliberately stepping into the street, and methodically\nknocking people's hats off--then, I account it high time to get to sea\nas soon as I can. This is my substitute for pistol and ball. With a\nphilosophical flourish Cato throws himself upon his sword; I quietly\ntake to the ship. There is nothing surprising in this. If they but knew\nit, almost all men in their degree, some time or other, cherish very\nnearly the same feelings towards the ocean with me.\nTrue\n",
          "name": "stdout"
        }
      ]
    },
    {
      "metadata": {
        "trusted": true
      },
      "cell_type": "code",
      "source": "print (type(file))",
      "execution_count": 9,
      "outputs": [
        {
          "output_type": "stream",
          "text": "<class '_io.TextIOWrapper'>\n",
          "name": "stdout"
        }
      ]
    },
    {
      "metadata": {
        "trusted": true
      },
      "cell_type": "code",
      "source": "print(type(file.read()))",
      "execution_count": 10,
      "outputs": [
        {
          "output_type": "error",
          "ename": "ValueError",
          "evalue": "I/O operation on closed file.",
          "traceback": [
            "\u001b[0;31m---------------------------------------------------------------------------\u001b[0m",
            "\u001b[0;31mValueError\u001b[0m                                Traceback (most recent call last)",
            "\u001b[0;32m<ipython-input-10-f0eeebf59795>\u001b[0m in \u001b[0;36m<module>\u001b[0;34m\u001b[0m\n\u001b[0;32m----> 1\u001b[0;31m \u001b[0mprint\u001b[0m\u001b[0;34m(\u001b[0m\u001b[0mtype\u001b[0m\u001b[0;34m(\u001b[0m\u001b[0mfile\u001b[0m\u001b[0;34m.\u001b[0m\u001b[0mread\u001b[0m\u001b[0;34m(\u001b[0m\u001b[0;34m)\u001b[0m\u001b[0;34m)\u001b[0m\u001b[0;34m)\u001b[0m\u001b[0;34m\u001b[0m\u001b[0m\n\u001b[0m",
            "\u001b[0;31mValueError\u001b[0m: I/O operation on closed file."
          ]
        }
      ]
    },
    {
      "metadata": {},
      "cell_type": "markdown",
      "source": "### Importing text files line by line\nFor large files, we may not want to print all of their content to the shell: you may wish to print only the first few lines. Enter the `readline()` method, which allows you to do this. When a file called `file` is open, you can print out the first line by executing <mark>`file.readline()`</mark>. If you execute the same command again, the second line will print, and so on.\n\nIn the introductory video, Hugo also introduced the concept of a **context manager**. He showed that you can bind a variable `file` by using a context manager construct:\n\n```python\nwith open('huck_finn.txt') as file:\n    ```\n\nWhile still within this construct, the variable file will be bound to open('huck_finn.txt'); thus, to print the file to the shell, all the code you need to execute is:\n\n```python\nwith open('huck_finn.txt') as file:\n    print(file.readline())\n```\nYou'll now use these tools to print the first few lines of `moby_dick.txt`!"
    },
    {
      "metadata": {},
      "cell_type": "markdown",
      "source": "**Instructions**\n- Open `moby_dick.txt` using the with context manager and the variable `file`.\n- Print the first three lines of the file to the shell by using `readline()` three times within the context manager."
    },
    {
      "metadata": {
        "trusted": true
      },
      "cell_type": "code",
      "source": "# Read & print the first 3 lines\nwith open('datasets/moby_dick.txt') as file:\n    print(file.readline())\n    print(file.readline())\n    print(file.readline())",
      "execution_count": 12,
      "outputs": [
        {
          "output_type": "stream",
          "text": "CHAPTER 1. Loomings.\n\n\n\nCall me Ishmael. Some years ago--never mind how long precisely--having\n\n",
          "name": "stdout"
        }
      ]
    },
    {
      "metadata": {},
      "cell_type": "markdown",
      "source": "## 1-2 The importance of flat files in data science"
    },
    {
      "metadata": {},
      "cell_type": "markdown",
      "source": "### Pop quiz: examples of flat files\nYou're now well-versed in importing text files and you're about to become a wiz at importing flat files. But can you remember exactly what a flat file is? Test your knowledge by answering the following question: which of these file types below is NOT an example of a flat file?\n\n**Possible Answers**\n- [ ] A .csv file.\n\n- [ ] A tab-delimited .txt.\n\n- [x] A relational database (e.g. PostgreSQL).\n\n"
    },
    {
      "metadata": {},
      "cell_type": "markdown",
      "source": "### Pop quiz: what exactly are flat files?\nWhich of the following statements about flat files is incorrect?\n\n**Possible Answers**\n- [ ] Flat files consist of rows and each row is called a record.\n\n- [x] Flat files consist of multiple tables with structured relationships between the tables.\n\n- [ ] A record in a flat file is composed of fields or attributes, each of which contains at most one item of information.\n\n- [ ] Flat files are pervasive in data science.\n"
    },
    {
      "metadata": {},
      "cell_type": "markdown",
      "source": "### Why we like flat files and the Zen of Python\nIn PythonLand, there are currently hundreds of *Python Enhancement Proposals*, commonly referred to as PEPs. [**PEP8**](https://www.python.org/dev/peps/pep-0008/), for example, is a standard style guide for Python, written by our sensei Guido van Rossum himself. It is the basis for how we here at DataCamp ask our instructors to [style their code](https://instructor-support.datacamp.com/en/#tab_style_guide_python). Another one of my favorites is [**PEP20**](https://www.python.org/dev/peps/pep-0020/), commonly called the *Zen of Python*. Its abstract is as follows:\n\n`*Long time Pythoneer Tim Peters succinctly channels the BDFL's guiding principles for Python's design into 20 aphorisms, only 19 of which have been written down.*`\n\nIf you don't know what the acronym BDFL stands for, I suggest that you look [here](https://docs.python.org/3.3/glossary.html#term-bdfl). You can print the Zen of Python in your shell by typing `import this` into it! You're going to do this now and the 5th aphorism (line) will say something of particular interest.\n\nThe question you need to answer is: **what is the 5th aphorism of the Zen of Python?**"
    },
    {
      "metadata": {},
      "cell_type": "markdown",
      "source": "**Possible Answers**\n- [x] Flat is better than nested.\n- [ ] Flat files are essential for data science.\n- [ ] The world is representable as a flat file.\n- [ ] Flatness is in the eye of the beholder."
    },
    {
      "metadata": {},
      "cell_type": "markdown",
      "source": "## Why we like flat files and the Zen of Python\n\nIn PythonLand, there are currently hundreds of Python Enhancement Proposals, commonly referred to as PEPs. [**PEP8**](https://www.python.org/dev/peps/pep-0008/), for example, is a standard style guide for Python, written by our sensei Guido van Rossum himself. It is the basis for how we here at DataCamp ask our instructors to [**style their code**](https://instructor-support.datacamp.com/en/#tab_style_guide_python). Another one of my favorites is [**PEP20**](https://www.python.org/dev/peps/pep-0020/), commonly called the Zen of Python. Its abstract is as follows:\n\n> <div style = \"background-color: #e6f5ff; color: steelblue; font-size: 15px; line-height: 1.8; font-style: italic; padding: 25px;\">\nLong time Pythoneer Tim Peters succinctly channels the BDFL's guiding principles for Python's design into 20 aphorisms, only 19 of which have been written down.\n</div>\n\nIf you don't know what the acronym `BDFL` stands for, I suggest that you look [here](https://docs.python.org/3.3/glossary.html#term-bdfl). You can print the Zen of Python in your shell by typing import this into it! You're going to do this now and the 5th aphorism (line) will say something of particular interest.\n\nThe question you need to answer is: **what is the 5th aphorism of the Zen of Python?**"
    },
    {
      "metadata": {
        "trusted": true
      },
      "cell_type": "code",
      "source": "import this",
      "execution_count": 14,
      "outputs": [
        {
          "output_type": "stream",
          "text": "The Zen of Python, by Tim Peters\n\nBeautiful is better than ugly.\nExplicit is better than implicit.\nSimple is better than complex.\nComplex is better than complicated.\nFlat is better than nested.\nSparse is better than dense.\nReadability counts.\nSpecial cases aren't special enough to break the rules.\nAlthough practicality beats purity.\nErrors should never pass silently.\nUnless explicitly silenced.\nIn the face of ambiguity, refuse the temptation to guess.\nThere should be one-- and preferably only one --obvious way to do it.\nAlthough that way may not be obvious at first unless you're Dutch.\nNow is better than never.\nAlthough never is often better than *right* now.\nIf the implementation is hard to explain, it's a bad idea.\nIf the implementation is easy to explain, it may be a good idea.\nNamespaces are one honking great idea -- let's do more of those!\n",
          "name": "stdout"
        }
      ]
    },
    {
      "metadata": {},
      "cell_type": "markdown",
      "source": "## 1-3 Importing flat files using NumPy\n"
    },
    {
      "metadata": {},
      "cell_type": "markdown",
      "source": "### Using NumPy to import flat files\nIn this exercise, you're now going to load the MNIST digit recognition dataset using the numpy function `loadtxt()` and see just how easy it can be:\n\n- The first argument will be the filename.\n- The second will be the delimiter which, in this case, is a comma.\nYou can find more information about the MNIST dataset [here](http://yann.lecun.com/exdb/mnist/) on the webpage of Yann LeCun, who is currently Director of AI Research at Facebook and Founding Director of the NYU Center for Data Science, among many other things."
    },
    {
      "metadata": {},
      "cell_type": "markdown",
      "source": "**Instructions**\n- Fill in the arguments of `np.loadtxt()` by passing `file` and a comma `','` for the delimiter.\n- Fill in the argument of `print()` to print the type of the object digits. Use the function `type()`.\n- Execute the rest of the code to visualize one of the rows of the data."
    },
    {
      "metadata": {
        "trusted": true
      },
      "cell_type": "code",
      "source": "%matplotlib inline\n# Import package\nimport numpy as np\nimport matplotlib.pyplot as plt\n\n# Assign filename to variable: file\nfile = 'datasets/digits.csv'\n\n# Load file as array: digits\ndigits = np.loadtxt(file, delimiter=',')\nprint(type(digits))\nprint(digits)\nprint(digits.shape)",
      "execution_count": 20,
      "outputs": [
        {
          "output_type": "stream",
          "text": "<class 'numpy.ndarray'>\n[[1. 0. 0. ... 0. 0. 0.]\n [0. 0. 0. ... 0. 0. 0.]\n [1. 0. 0. ... 0. 0. 0.]\n ...\n [2. 0. 0. ... 0. 0. 0.]\n [0. 0. 0. ... 0. 0. 0.]\n [5. 0. 0. ... 0. 0. 0.]]\n(100, 785)\n",
          "name": "stdout"
        }
      ]
    },
    {
      "metadata": {
        "trusted": true
      },
      "cell_type": "code",
      "source": "# Select and reshape a row\nim = digits[21, 1:]\nim_sq = np.reshape(im, (28, 28))\n\n\nprint(im.shape)\n\nprint(im_sq.shape)\nprint(im_sq)",
      "execution_count": 24,
      "outputs": [
        {
          "output_type": "stream",
          "text": "(784,)\n(28, 28)\n[[  0.   0.   0.   0.   0.   0.   0.   0.   0.   0.   0.   0.   0.   0.\n    0.   0.   0.   0.   0.   0.   0.   0.   0.   0.   0.   0.   0.   0.]\n [  0.   0.   0.   0.   0.   0.   0.   0.   0.   0.   0.   0.   0.   0.\n    0.   0.   0.   0.   0.   0.   0.   0.   0.   0.   0.   0.   0.   0.]\n [  0.   0.   0.   0.   0.   0.   0.   0.   0.   0.   0.   0.   0.   0.\n    0.   0.   0.   0.   0.   0.   2.  89. 208. 135.   0.   0.   0.   0.]\n [  0.   0.   0.   0.   0.   0.   0.   0.   0.   0.   0.   0.   0.   0.\n    0.   0.   0.   0.   0.   5.  70. 254. 203.   8.   0.   0.   0.   0.]\n [  0.   0.   0.   0.   0.   0.   0.   0.   0.   0.   0.   0.   0.   0.\n    0.   0.   0.   0.  27. 189. 254. 230.  18.   0.   0.   0.   0.   0.]\n [  0.   0.   0.   0.   0.   0.   0.   0.   0.   0.   0.   0.   0.   0.\n    0.   0.   0.  28. 219. 255. 206.   3.   0.   0.   0.   0.   0.   0.]\n [  0.   0.   0.   0.   0.   0.   0.   0.   0.   0.   0.   0.   0.   0.\n    0.   8.  94. 233. 248. 179.  31.   0.   0.   0.   0.   0.   0.   0.]\n [  0.   0.   0.   0.   0.   0.   0.   0.   0.   0.   0.   0.   0.   0.\n    0. 146. 254. 251.  84.   0.   0.   0.   0.   0.   0.   0.   0.   0.]\n [  0.   0.   0.   0.   0.   0.   0.   0.   0.   0.   0.   0.   0.  51.\n  173. 252. 209.  65.   0.   0.   0.   0.   0.   0.   0.   0.   0.   0.]\n [  0.   0.   0.   0.   0.   0.   0.   0.   0.   0.   0.   2. 119. 252.\n  254. 146.  20.   0.   0.   0.   0.   0.   0.   0.   0.   0.   0.   0.]\n [  0.   0.   0.   0.   0.   0.   0.   0.   0.   0.  18. 131. 254. 239.\n  130.  25.   0.   0.   0.   0.   0.   0.   0.   0.   0.   0.   0.   0.]\n [  0.   0.   0.   0.   0.   0.   0.   0.   0.  17. 237. 254. 239.  58.\n    0.   0.   0.   0.   0.   0.  20.  36.   0.   0.   0.   0.   0.   0.]\n [  0.   0.   0.   0.   0.   0.   0.   4.  70. 223. 251. 196.  61.   0.\n    0.   0.  30. 112. 138. 207. 226. 242. 138.   0.   0.   0.   0.   0.]\n [  0.   0.   0.   0.   0.   0.   0. 153. 254. 228.  68.   0.   0.   0.\n   34. 143. 249. 254. 233. 177. 179. 254. 190.   0.   0.   0.   0.   0.]\n [  0.   0.   0.   0.   0.   0.  67. 253. 208.  40.   0.   0.  31.  99.\n  226. 241. 195. 112.  14.   0.  18. 186. 246.  84.   0.   0.   0.   0.]\n [  0.   0.   0.   0.   0.  67. 241. 168.   8.   0.   0.  60. 239. 253.\n  161.  37.   0.   0.   0.  20. 165. 254. 105.   0.   0.   0.   0.   0.]\n [  0.   0.   0.   0.   0. 185. 254.  74.   0.   0.  43. 224. 254. 116.\n    0.   0.   0.   3.  73. 205. 253. 182.  21.   0.   0.   0.   0.   0.]\n [  0.   0.   0.   0.  58. 252. 121.   1.   0.  47. 205. 230.  53.   2.\n    0.   0.  53. 176. 254. 219. 118.   0.   0.   0.   0.   0.   0.   0.]\n [  0.   0.   0.   0.  99. 254. 107.   2.   1. 127. 254.  65.   5.  24.\n  107. 198. 250. 252. 195.  27.   0.   0.   0.   0.   0.   0.   0.   0.]\n [  0.   0.   0.   0.  24. 234. 254. 199. 172. 254. 254. 186. 254. 254.\n  254. 234. 134.  53.   0.   0.   0.   0.   0.   0.   0.   0.   0.   0.]\n [  0.   0.   0.   0.   0. 109. 195. 233. 250. 254. 254. 254. 244. 129.\n   46.  20.   0.   0.   0.   0.   0.   0.   0.   0.   0.   0.   0.   0.]\n [  0.   0.   0.   0.   0.   0.   0.  24.  71. 254. 254. 254. 235.  84.\n    0.   0.   0.   0.   0.   0.   0.   0.   0.   0.   0.   0.   0.   0.]\n [  0.   0.   0.   0.   0.   0.   0.   0.   0.   0.   0.   0.   0.   0.\n    0.   0.   0.   0.   0.   0.   0.   0.   0.   0.   0.   0.   0.   0.]\n [  0.   0.   0.   0.   0.   0.   0.   0.   0.   0.   0.   0.   0.   0.\n    0.   0.   0.   0.   0.   0.   0.   0.   0.   0.   0.   0.   0.   0.]\n [  0.   0.   0.   0.   0.   0.   0.   0.   0.   0.   0.   0.   0.   0.\n    0.   0.   0.   0.   0.   0.   0.   0.   0.   0.   0.   0.   0.   0.]\n [  0.   0.   0.   0.   0.   0.   0.   0.   0.   0.   0.   0.   0.   0.\n    0.   0.   0.   0.   0.   0.   0.   0.   0.   0.   0.   0.   0.   0.]\n [  0.   0.   0.   0.   0.   0.   0.   0.   0.   0.   0.   0.   0.   0.\n    0.   0.   0.   0.   0.   0.   0.   0.   0.   0.   0.   0.   0.   0.]\n [  0.   0.   0.   0.   0.   0.   0.   0.   0.   0.   0.   0.   0.   0.\n    0.   0.   0.   0.   0.   0.   0.   0.   0.   0.   0.   0.   0.   0.]]\n",
          "name": "stdout"
        }
      ]
    },
    {
      "metadata": {
        "trusted": true
      },
      "cell_type": "code",
      "source": "# Plot reshaped data (matplotlib.pyplot already loaded as plt)\nplt.imshow(im_sq, cmap='Greys', interpolation='nearest')\nplt.show()",
      "execution_count": 25,
      "outputs": [
        {
          "output_type": "display_data",
          "data": {
            "image/png": "[encoded data removed]",
            "text/plain": "<Figure size 432x288 with 1 Axes>"
          },
          "metadata": {
            "needs_background": "light"
          }
        }
      ]
    },
    {
      "metadata": {
        "trusted": true
      },
      "cell_type": "code",
      "source": "# Select and reshape a row\nim2 = digits[99, 1:]\nim_sq2 = np.reshape(im2, (28, 28))\n\n# Plot reshaped data (matplotlib.pyplot already loaded as plt)\nplt.imshow(im_sq2, cmap='Greys', interpolation='nearest')\nplt.show()",
      "execution_count": 50,
      "outputs": [
        {
          "output_type": "display_data",
          "data": {
            "image/png": "[encoded data removed]",
            "text/plain": "<Figure size 432x288 with 1 Axes>"
          },
          "metadata": {
            "needs_background": "light"
          }
        }
      ]
    },
    {
      "metadata": {
        "trusted": true
      },
      "cell_type": "code",
      "source": "?np.loadtxt",
      "execution_count": 51,
      "outputs": []
    },
    {
      "metadata": {
        "trusted": true
      },
      "cell_type": "code",
      "source": "?plt.imshow",
      "execution_count": null,
      "outputs": []
    },
    {
      "metadata": {
        "trusted": true
      },
      "cell_type": "code",
      "source": "?np.reshape",
      "execution_count": 36,
      "outputs": []
    },
    {
      "metadata": {
        "trusted": true
      },
      "cell_type": "code",
      "source": "?np.ndim",
      "execution_count": null,
      "outputs": []
    },
    {
      "metadata": {
        "trusted": true
      },
      "cell_type": "code",
      "source": "print(digits.shape)# shape: (#rows, #columns)# return Tuple of array dimensions. (row, column)\nprint(digits.size) # size = #rows x #columns\nprint(digits.ndim) # 2-D Array\nprint(len(digits)) # length: #rows",
      "execution_count": 46,
      "outputs": [
        {
          "output_type": "stream",
          "text": "(100, 785)\n78500\n2\n100\n",
          "name": "stdout"
        }
      ]
    },
    {
      "metadata": {
        "trusted": true
      },
      "cell_type": "code",
      "source": "print(im.shape)\nprint(im.size)\nprint(im.ndim)",
      "execution_count": 45,
      "outputs": [
        {
          "output_type": "stream",
          "text": "(784,)\n784\n1\n",
          "name": "stdout"
        }
      ]
    },
    {
      "metadata": {
        "trusted": true
      },
      "cell_type": "code",
      "source": "print(im_sq.shape)\nprint(im_sq.size)\nprint(im_sq.ndim)",
      "execution_count": 47,
      "outputs": [
        {
          "output_type": "stream",
          "text": "(28, 28)\n784\n2\n",
          "name": "stdout"
        }
      ]
    },
    {
      "metadata": {},
      "cell_type": "markdown",
      "source": "### Customizing your NumPy import\nWhat if there are rows, such as a header, that you don't want to import? What if your file has a delimiter other than a comma? What if you only wish to import particular columns?\n\nThere are a number of arguments that `np.loadtxt()` takes that you'll find useful:\n\n- delimiter changes the delimiter that `loadtxt()` is expecting.\n> - You can use `','` for comma-delimited.\n> - You can use `'\\t'` for tab-delimited.\n- `skiprows` allows you to specify how many rows (not indices) you wish to skip\n- `usecols` takes a list of the indices of the columns you wish to keep.\n\nThe file that you'll be importing, `digits_header.txt`, has a header and is tab-delimited."
    },
    {
      "metadata": {},
      "cell_type": "markdown",
      "source": "**Instructions**\n- Complete the arguments of `np.loadtxt()`: the file you're importing is tab-delimited, you want to skip the first row and you only want to import the first and third columns.\n\n- Complete the argument of the `print()` call in order to print the entire array that you just imported."
    },
    {
      "metadata": {
        "trusted": true
      },
      "cell_type": "code",
      "source": "# Import numpy\nimport numpy as np\n\n# Assign the filename: file\nfile = 'datasets/digits_header.txt'\n\n# Load the data: data\ndata = np.loadtxt(file, delimiter='\\t', skiprows=1, usecols=[0,2])\ndata2 = np.loadtxt(file, delimiter='\\t',skiprows=1 )\n# Print data\nprint(data)\nprint(data.shape)\nprint(data2)\nprint(data2.shape)\n",
      "execution_count": 54,
      "outputs": [
        {
          "output_type": "stream",
          "text": "[[1. 0.]\n [0. 0.]\n [1. 0.]\n [4. 0.]\n [0. 0.]\n [0. 0.]\n [7. 0.]\n [3. 0.]\n [5. 0.]\n [3. 0.]\n [8. 0.]\n [9. 0.]\n [1. 0.]\n [3. 0.]\n [3. 0.]\n [1. 0.]\n [2. 0.]\n [0. 0.]\n [7. 0.]\n [5. 0.]\n [8. 0.]\n [6. 0.]\n [2. 0.]\n [0. 0.]\n [2. 0.]\n [3. 0.]\n [6. 0.]\n [9. 0.]\n [9. 0.]\n [7. 0.]\n [8. 0.]\n [9. 0.]\n [4. 0.]\n [9. 0.]\n [2. 0.]\n [1. 0.]\n [3. 0.]\n [1. 0.]\n [1. 0.]\n [4. 0.]\n [9. 0.]\n [1. 0.]\n [4. 0.]\n [4. 0.]\n [2. 0.]\n [6. 0.]\n [3. 0.]\n [7. 0.]\n [7. 0.]\n [4. 0.]\n [7. 0.]\n [5. 0.]\n [1. 0.]\n [9. 0.]\n [0. 0.]\n [2. 0.]\n [2. 0.]\n [3. 0.]\n [9. 0.]\n [1. 0.]\n [1. 0.]\n [1. 0.]\n [5. 0.]\n [0. 0.]\n [6. 0.]\n [3. 0.]\n [4. 0.]\n [8. 0.]\n [1. 0.]\n [0. 0.]\n [3. 0.]\n [9. 0.]\n [6. 0.]\n [2. 0.]\n [6. 0.]\n [4. 0.]\n [7. 0.]\n [1. 0.]\n [4. 0.]\n [1. 0.]\n [5. 0.]\n [4. 0.]\n [8. 0.]\n [9. 0.]\n [2. 0.]\n [9. 0.]\n [9. 0.]\n [8. 0.]\n [9. 0.]\n [6. 0.]\n [3. 0.]\n [6. 0.]\n [4. 0.]\n [6. 0.]\n [2. 0.]\n [9. 0.]\n [1. 0.]\n [2. 0.]\n [0. 0.]\n [5. 0.]]\n(100, 2)\n[[1. 0. 0. ... 0. 0. 0.]\n [0. 0. 0. ... 0. 0. 0.]\n [1. 0. 0. ... 0. 0. 0.]\n ...\n [2. 0. 0. ... 0. 0. 0.]\n [0. 0. 0. ... 0. 0. 0.]\n [5. 0. 0. ... 0. 0. 0.]]\n(100, 785)\n",
          "name": "stdout"
        }
      ]
    },
    {
      "metadata": {},
      "cell_type": "markdown",
      "source": "### Importing different datatypes\nThe file `seaslug.txt`\n\n- has a text header, consisting of strings\n- is tab-delimited.\n\nThese data consists of percentage of sea slug larvae that had metamorphosed in a given time period. Read more here.\n\nDue to the header, if you tried to import it as-is using `np.loadtxt()`, Python would throw you a ValueError and tell you that it could not convert string to float. There are two ways to deal with this: firstly, you can set the data type argument `dtype` equal to `str` (for string).\n\nAlternatively, you can skip the first row as we have seen before, using the `skiprows` argument."
    },
    {
      "metadata": {},
      "cell_type": "markdown",
      "source": "**Instructions**\n\n- Complete the first call to `np.loadtxt()` by passing `file` as the first argument.\n- Execute `print(data[0])` to print the first element of data.\n- Complete the second call to `np.loadtxt()`. The file you're importing is tab-delimited, the datatype is `float`, and you want to skip the first row.\n- Print the 10th element of data_float by completing the `print()` command. Be guided by the previous print() call.\n- Execute the rest of the code to visualize the data."
    },
    {
      "metadata": {
        "trusted": true
      },
      "cell_type": "code",
      "source": "# Assign filename: file\nfile = 'datasets/seaslug.txt'\n\n# Import file: data\ndata = np.loadtxt(file, delimiter='\\t', dtype=str)\n\n# Print the first element of data\nprint(data[0])\n\n# Import data as floats and skip the first row: data_float\ndata_float = np.loadtxt(file, delimiter='\\t', dtype=float, skiprows=1)\n\n# Print the 10th element of data_float\nprint(data_float[9])\n\n# Plot a scatterplot of the data\nplt.scatter(data_float[:, 0], data_float[:, 1]) #data_float[:, 0]: 1st column as \"Time\"; data_float[:, 1]: the 2nd column as \"Percent\"\nplt.xlabel('time (min.)')\nplt.ylabel('percentage of larvae')\nplt.show()\n",
      "execution_count": 55,
      "outputs": [
        {
          "output_type": "stream",
          "text": "['Time' 'Percent']\n[0.    0.357]\n",
          "name": "stdout"
        },
        {
          "output_type": "display_data",
          "data": {
            "image/png": "[encoded data removed]",
            "text/plain": "<Figure size 432x288 with 1 Axes>"
          },
          "metadata": {
            "needs_background": "light"
          }
        }
      ]
    },
    {
      "metadata": {},
      "cell_type": "markdown",
      "source": "### Working with mixed datatypes (1)\nMuch of the time you will need to import datasets which have different datatypes in different columns; one column may contain strings and another floats, for example. The function `np.loadtxt()` will freak at this. There is another function, `np.genfromtxt()`, which can handle such structures. If we pass `dtype=None` to it, it will figure out what types each column should be.\n\nImport 'titanic.csv' using the function `np.genfromtxt()` as follows:\n\n```Python\n    data = np.genfromtxt('titanic.csv', delimiter=',', names=True, dtype=None)```\n\nHere, the first argument is the `filename`, the second specifies the `delimiter` , and the third argument `names` tells us there is a header. Because the data are of different types, data is an object called a [**structured array**](https://docs.scipy.org/doc/numpy/user/basics.rec.html). Because numpy arrays have to contain elements that are all the same type, the structured array solves this by being a 1D array, where each element of the array is a row of the flat file imported. You can test this by checking out the array's shape in the shell by executing `np.shape(data)`.\n\nAccessing rows and columns of structured arrays is super-intuitive: to get the ith row, merely execute `data[i]` and to get the column with name 'Fare', execute `data['Fare']`.\n\nAfter importing the Titanic data as a structured array (as per the instructions above), print the entire column with the name Survived to the shell. What are the last 4 values of this column? \n\n**Answer: 1, 0, 1, 0**\n"
    },
    {
      "metadata": {},
      "cell_type": "markdown",
      "source": "https://web.stanford.edu/class/archive/cs/cs109/cs109.1166/problem12.html"
    },
    {
      "metadata": {
        "trusted": true
      },
      "cell_type": "code",
      "source": "data = np.genfromtxt('datasets/titanic.csv', delimiter=',', names=True, dtype=None, encoding = None)  # addig encoding = None to set system default as \"bytes\"\n\nnp.shape(data)\n\ndata[0]\n",
      "execution_count": 64,
      "outputs": [
        {
          "output_type": "execute_result",
          "execution_count": 64,
          "data": {
            "text/plain": "(0, 3, 'Mr. Owen Harris Braund', 'male', 22., 1, 0, 7.25)"
          },
          "metadata": {}
        }
      ]
    },
    {
      "metadata": {
        "trusted": true
      },
      "cell_type": "code",
      "source": "data['Survived']",
      "execution_count": 59,
      "outputs": [
        {
          "output_type": "execute_result",
          "execution_count": 59,
          "data": {
            "text/plain": "array([0, 1, 1, 1, 0, 0, 0, 0, 1, 1, 1, 1, 0, 0, 0, 1, 0, 1, 0, 1, 0, 1,\n       1, 1, 0, 1, 0, 0, 1, 0, 0, 1, 1, 0, 0, 0, 1, 0, 0, 1, 0, 0, 1, 1,\n       0, 0, 1, 0, 0, 0, 0, 1, 1, 0, 1, 1, 0, 1, 0, 0, 1, 0, 0, 0, 1, 1,\n       0, 1, 0, 0, 0, 0, 0, 1, 0, 0, 0, 1, 1, 0, 1, 1, 0, 1, 1, 0, 0, 1,\n       0, 0, 0, 0, 0, 0, 0, 0, 1, 1, 0, 0, 0, 0, 0, 0, 0, 1, 1, 0, 1, 0,\n       0, 0, 0, 0, 0, 0, 0, 0, 0, 0, 0, 0, 1, 0, 1, 0, 1, 1, 0, 0, 0, 0,\n       1, 0, 0, 1, 0, 0, 0, 0, 1, 1, 0, 0, 0, 1, 0, 0, 0, 0, 1, 0, 0, 0,\n       0, 1, 0, 0, 0, 0, 1, 0, 0, 0, 1, 1, 0, 0, 0, 0, 0, 1, 0, 0, 0, 0,\n       0, 0, 0, 0, 0, 0, 1, 1, 0, 1, 1, 0, 0, 1, 0, 1, 1, 1, 1, 0, 0, 1,\n       0, 0, 0, 0, 0, 1, 0, 0, 1, 1, 1, 0, 1, 0, 0, 0, 1, 1, 0, 1, 0, 1,\n       0, 0, 0, 1, 0, 1, 0, 0, 0, 1, 0, 0, 1, 0, 0, 0, 1, 0, 0, 0, 1, 0,\n       0, 0, 0, 0, 1, 1, 0, 0, 0, 0, 0, 0, 1, 1, 1, 1, 1, 1, 0, 0, 0, 0,\n       0, 1, 1, 1, 0, 1, 1, 0, 1, 1, 0, 0, 0, 1, 0, 0, 0, 1, 0, 0, 1, 0,\n       1, 1, 1, 1, 0, 0, 0, 0, 0, 0, 1, 1, 1, 1, 0, 1, 0, 1, 1, 1, 0, 1,\n       1, 1, 0, 0, 0, 1, 1, 0, 1, 1, 0, 0, 1, 1, 0, 1, 0, 1, 1, 1, 1, 0,\n       0, 0, 1, 0, 0, 1, 1, 0, 1, 1, 0, 0, 0, 1, 1, 1, 1, 0, 0, 0, 0, 0,\n       0, 0, 1, 0, 1, 1, 0, 0, 0, 0, 0, 0, 1, 1, 1, 1, 1, 0, 0, 0, 0, 1,\n       1, 0, 0, 0, 1, 1, 0, 1, 0, 0, 0, 1, 0, 1, 1, 1, 0, 1, 1, 0, 0, 0,\n       0, 1, 1, 0, 0, 0, 0, 0, 0, 1, 0, 0, 0, 0, 1, 0, 1, 0, 1, 1, 0, 0,\n       0, 0, 0, 0, 0, 1, 1, 0, 1, 1, 1, 1, 0, 0, 1, 0, 1, 0, 0, 1, 0, 0,\n       1, 1, 1, 1, 1, 1, 1, 0, 0, 0, 1, 0, 1, 0, 1, 1, 0, 1, 0, 0, 0, 0,\n       0, 0, 0, 0, 1, 0, 0, 1, 1, 0, 0, 0, 0, 0, 1, 0, 0, 0, 1, 1, 0, 1,\n       0, 0, 1, 0, 0, 0, 0, 0, 0, 1, 0, 0, 0, 0, 0, 0, 0, 1, 0, 1, 1, 0,\n       1, 1, 0, 1, 1, 0, 0, 1, 0, 1, 0, 1, 0, 0, 1, 0, 0, 1, 0, 0, 0, 1,\n       0, 0, 1, 0, 1, 0, 1, 0, 1, 1, 0, 0, 1, 0, 0, 1, 1, 0, 1, 1, 0, 0,\n       1, 1, 0, 1, 0, 1, 1, 0, 0, 0, 0, 0, 0, 0, 0, 0, 1, 1, 1, 1, 1, 0,\n       0, 1, 1, 0, 1, 1, 1, 0, 0, 0, 1, 0, 1, 0, 0, 0, 1, 0, 0, 0, 0, 1,\n       0, 0, 1, 1, 0, 0, 0, 1, 0, 0, 1, 1, 1, 0, 0, 1, 0, 0, 1, 0, 0, 1,\n       0, 0, 1, 1, 0, 0, 0, 0, 1, 0, 0, 1, 0, 1, 0, 0, 1, 0, 0, 0, 0, 0,\n       1, 0, 1, 1, 1, 0, 1, 0, 1, 0, 1, 0, 1, 0, 0, 0, 0, 0, 0, 1, 0, 0,\n       0, 1, 0, 0, 0, 0, 1, 1, 0, 0, 1, 0, 0, 0, 1, 0, 1, 0, 1, 0, 0, 0,\n       0, 0, 0, 0, 1, 1, 1, 1, 0, 0, 0, 0, 1, 0, 0, 1, 1, 0, 0, 0, 0, 1,\n       1, 1, 1, 1, 0, 1, 0, 0, 0, 1, 1, 0, 1, 0, 0, 0, 1, 0, 1, 1, 0, 0,\n       1, 0, 0, 0, 0, 0, 0, 1, 0, 0, 1, 0, 1, 0, 1, 0, 0, 1, 0, 0, 1, 1,\n       0, 0, 1, 1, 0, 0, 0, 1, 0, 0, 1, 1, 0, 1, 0, 0, 0, 0, 0, 0, 0, 0,\n       1, 0, 0, 1, 0, 1, 1, 1, 0, 0, 0, 0, 1, 0, 1, 0, 0, 0, 0, 0, 0, 0,\n       1, 1, 0, 0, 0, 1, 1, 1, 1, 0, 0, 0, 0, 1, 0, 0, 0, 0, 0, 0, 0, 0,\n       0, 0, 1, 1, 0, 1, 0, 0, 0, 1, 1, 1, 1, 1, 0, 0, 0, 1, 0, 0, 1, 1,\n       0, 0, 1, 0, 0, 0, 0, 0, 0, 1, 0, 0, 0, 1, 0, 1, 1, 1, 1, 0, 0, 0,\n       1, 0, 0, 1, 1, 0, 0, 1, 0, 1, 0, 0, 1, 1, 0, 0, 0, 1, 1, 0, 0, 0,\n       0, 0, 0, 1, 0, 1, 0])"
          },
          "metadata": {}
        }
      ]
    },
    {
      "metadata": {
        "trusted": true
      },
      "cell_type": "code",
      "source": "?np.genfromtxt",
      "execution_count": 65,
      "outputs": []
    },
    {
      "metadata": {},
      "cell_type": "markdown",
      "source": "### Working with mixed datatypes (2)\nYou have just used `np.genfromtxt()` to import data containing mixed datatypes. There is also another function `np.recfromcsv()` that behaves similarly to np.genfromtxt(), except that its default dtype is `None`. In this exercise, you'll practice using this to achieve the same result."
    },
    {
      "metadata": {},
      "cell_type": "markdown",
      "source": "- Import `titanic.csv` using the function `np.recfromcsv()` and assign it to the variable, `d`. You'll only need to pass `file` to it because it has the defaults `delimiter=','` and `names=True` in addition to `dtype=None`!\n- Run the remaining code to print the first **three** entries of the resulting array"
    },
    {
      "metadata": {
        "trusted": true
      },
      "cell_type": "code",
      "source": "# Assign the filename: file\nfile = 'datasets/titanic.csv'\n\n# Import file using np.recfromcsv: d\n\nd = np.recfromcsv(file, delimiter =',', names = True, dtype = None, encoding = None )\n\n# Print out first three entries of d\nprint(d[:3])",
      "execution_count": 66,
      "outputs": [
        {
          "output_type": "stream",
          "text": "[(0, 3, 'Mr. Owen Harris Braund', 'male', 22., 1, 0,  7.25  )\n (1, 1, 'Mrs. John Bradley (Florence Briggs Thayer) Cumings', 'female', 38., 1, 0, 71.2833)\n (1, 3, 'Miss. Laina Heikkinen', 'female', 26., 0, 0,  7.925 )]\n",
          "name": "stdout"
        }
      ]
    },
    {
      "metadata": {
        "trusted": true
      },
      "cell_type": "code",
      "source": "?np.recfromcsv",
      "execution_count": null,
      "outputs": []
    },
    {
      "metadata": {},
      "cell_type": "markdown",
      "source": "## 1- 4 Importing flat files using pandas\n"
    },
    {
      "metadata": {},
      "cell_type": "markdown",
      "source": "## Using pandas to import flat files as DataFrames (1)\n\nIn the last exercise, you were able to import flat files containing columns with different datatypes as numpy arrays. However, the `DataFrame` object in pandas is a more appropriate structure in which to store such data and, thankfully, we can easily import files of mixed data types as `DataFrames` using the pandas functions `read_csv()` and `read_table()`."
    },
    {
      "metadata": {},
      "cell_type": "markdown",
      "source": "### Instructions\n\n- Import the `pandas` package using the alias `pd`.\n- Read `titanic.csv` into a DataFrame called `df`. The file name is already stored in the `file` object.\n- In a `print()` call, view the head of the DataFrame."
    },
    {
      "metadata": {
        "trusted": true
      },
      "cell_type": "code",
      "source": "# Import pandas as pd\nimport pandas as pd\n\n# Assign the filename: file\nfile = 'datasets/titanic.csv'\n\n# Read the file into a DataFrame: df\ndf = pd.read_csv(file)\n\n# View the head of the DataFrame\n\ndf.head()",
      "execution_count": 68,
      "outputs": [
        {
          "output_type": "execute_result",
          "execution_count": 68,
          "data": {
            "text/html": "<div>\n<style scoped>\n    .dataframe tbody tr th:only-of-type {\n        vertical-align: middle;\n    }\n\n    .dataframe tbody tr th {\n        vertical-align: top;\n    }\n\n    .dataframe thead th {\n        text-align: right;\n    }\n</style>\n<table border=\"1\" class=\"dataframe\">\n  <thead>\n    <tr style=\"text-align: right;\">\n      <th></th>\n      <th>Survived</th>\n      <th>Pclass</th>\n      <th>Name</th>\n      <th>Sex</th>\n      <th>Age</th>\n      <th>Siblings/Spouses Aboard</th>\n      <th>Parents/Children Aboard</th>\n      <th>Fare</th>\n    </tr>\n  </thead>\n  <tbody>\n    <tr>\n      <th>0</th>\n      <td>0</td>\n      <td>3</td>\n      <td>Mr. Owen Harris Braund</td>\n      <td>male</td>\n      <td>22.0</td>\n      <td>1</td>\n      <td>0</td>\n      <td>7.2500</td>\n    </tr>\n    <tr>\n      <th>1</th>\n      <td>1</td>\n      <td>1</td>\n      <td>Mrs. John Bradley (Florence Briggs Thayer) Cum...</td>\n      <td>female</td>\n      <td>38.0</td>\n      <td>1</td>\n      <td>0</td>\n      <td>71.2833</td>\n    </tr>\n    <tr>\n      <th>2</th>\n      <td>1</td>\n      <td>3</td>\n      <td>Miss. Laina Heikkinen</td>\n      <td>female</td>\n      <td>26.0</td>\n      <td>0</td>\n      <td>0</td>\n      <td>7.9250</td>\n    </tr>\n    <tr>\n      <th>3</th>\n      <td>1</td>\n      <td>1</td>\n      <td>Mrs. Jacques Heath (Lily May Peel) Futrelle</td>\n      <td>female</td>\n      <td>35.0</td>\n      <td>1</td>\n      <td>0</td>\n      <td>53.1000</td>\n    </tr>\n    <tr>\n      <th>4</th>\n      <td>0</td>\n      <td>3</td>\n      <td>Mr. William Henry Allen</td>\n      <td>male</td>\n      <td>35.0</td>\n      <td>0</td>\n      <td>0</td>\n      <td>8.0500</td>\n    </tr>\n  </tbody>\n</table>\n</div>",
            "text/plain": "   Survived  Pclass                                               Name  \\\n0         0       3                             Mr. Owen Harris Braund   \n1         1       1  Mrs. John Bradley (Florence Briggs Thayer) Cum...   \n2         1       3                              Miss. Laina Heikkinen   \n3         1       1        Mrs. Jacques Heath (Lily May Peel) Futrelle   \n4         0       3                            Mr. William Henry Allen   \n\n      Sex   Age  Siblings/Spouses Aboard  Parents/Children Aboard     Fare  \n0    male  22.0                        1                        0   7.2500  \n1  female  38.0                        1                        0  71.2833  \n2  female  26.0                        0                        0   7.9250  \n3  female  35.0                        1                        0  53.1000  \n4    male  35.0                        0                        0   8.0500  "
          },
          "metadata": {}
        }
      ]
    },
    {
      "metadata": {},
      "cell_type": "markdown",
      "source": "### Using pandas to import flat files as DataFrames (2)\nIn the last exercise, you were able to import flat files into a pandas DataFrame. As a bonus, it is then straightforward to retrieve the corresponding numpy array using the attribute `values`. You'll now have a chance to do this using the `MNIST` dataset, which is available as `digits.csv`."
    },
    {
      "metadata": {},
      "cell_type": "markdown",
      "source": "### Instructions\n\n- Import the first 5 rows of the file into a DataFrame using the function `pd.read_csv()` and assign the result to `data`. You'll need to use the arguments `nrows` and `header` (there is no header in this file).\n- Build a `numpy array` from the resulting DataFrame in data and assign to `data_array`.\n- Execute `print(type(data_array))` to print the datatype of `data_array`.\n"
    },
    {
      "metadata": {
        "trusted": true
      },
      "cell_type": "code",
      "source": "# Assign the filename: file\nfile = 'datasets/digits.csv'\n\n# Read the first 5 rows of the file into a DataFrame: data\ndata = pd.read_csv(file,header=None , nrows=5 )\nprint(data)\nprint(type(data))\n\n# Build a numpy array from the DataFrame: data_array\ndata_array=data.values\n\n# Print the datatype of data_array to the shell\nprint(type(data_array))",
      "execution_count": 69,
      "outputs": [
        {
          "output_type": "stream",
          "text": "   0    1    2    3    4    5    6    7    8    9   ...   775  776  777  778  \\\n0  1.0  0.0  0.0  0.0  0.0  0.0  0.0  0.0  0.0  0.0 ...   0.0  0.0  0.0  0.0   \n1  0.0  0.0  0.0  0.0  0.0  0.0  0.0  0.0  0.0  0.0 ...   0.0  0.0  0.0  0.0   \n2  1.0  0.0  0.0  0.0  0.0  0.0  0.0  0.0  0.0  0.0 ...   0.0  0.0  0.0  0.0   \n3  4.0  0.0  0.0  0.0  0.0  0.0  0.0  0.0  0.0  0.0 ...   0.0  0.0  0.0  0.0   \n4  0.0  0.0  0.0  0.0  0.0  0.0  0.0  0.0  0.0  0.0 ...   0.0  0.0  0.0  0.0   \n\n   779  780  781  782  783  784  \n0  0.0  0.0  0.0  0.0  0.0  0.0  \n1  0.0  0.0  0.0  0.0  0.0  0.0  \n2  0.0  0.0  0.0  0.0  0.0  0.0  \n3  0.0  0.0  0.0  0.0  0.0  0.0  \n4  0.0  0.0  0.0  0.0  0.0  0.0  \n\n[5 rows x 785 columns]\n<class 'pandas.core.frame.DataFrame'>\n<class 'numpy.ndarray'>\n",
          "name": "stdout"
        }
      ]
    },
    {
      "metadata": {},
      "cell_type": "markdown",
      "source": "### Customizing your pandas import\nThe `pandas` package is also great at dealing with many of the issues you will encounter when importing data as a data scientist, such as `comments` occurring in flat files, empty lines and missing values. Note that missing values are also commonly referred to as `NA` or `NaN`. To wrap up this chapter, you're now going to import a slightly corrupted copy of the Titanic dataset `titanic_corrupt.txt`, which\n\n- contains comments after the character '#'\n- is tab-delimited."
    },
    {
      "metadata": {},
      "cell_type": "markdown",
      "source": "### Instructions\n\n- Complete the `sep` (the pandas version of delim), `comment` and `na_values` arguments of `pd.read_csv()`. comment takes characters that comments occur after in the file, which in this case is '#'. `na_values` takes a list of strings to recognize as `NA/NaN`, in this case the string `'Nothing'`.\n- Execute the rest of the code to print the head of the resulting DataFrame and plot the histogram of the `'Age'` of passengers aboard the Titanic."
    },
    {
      "metadata": {
        "trusted": true
      },
      "cell_type": "code",
      "source": "# Import matplotlib.pyplot as plt\nimport matplotlib.pyplot as plt\n\n# Assign filename: file\nfile = 'datasets/titanic_corrupt.txt'\n\n# Import file: data\ndata = pd.read_csv(file, sep='\\t', comment='#', na_values='Nothing')\n\n# Print the head of the DataFrame\nprint(data.head())\n\n# Plot 'Age' variable in a histogram\npd.DataFrame.hist(data[['Age']]) # data[['Age']] is pandas.core.frame.DataFrame\n#data.Age.hist()\nplt.xlabel('Age (years)')\nplt.ylabel('count')\nplt.show()",
      "execution_count": 88,
      "outputs": [
        {
          "output_type": "stream",
          "text": "   PassengerId  Survived  Pclass     Sex   Age  SibSp  Parch  \\\n0            1         0       3    male  22.0      1      0   \n1            2         1       1  female  38.0      1      0   \n2            3         1       3  female  26.0      0      0   \n3            4         1       1  female  35.0      1      0   \n4            5         0       3    male  35.0      0      0   \n\n             Ticket     Fare Cabin    Embarked  \n0         A/5 21171   7.2500   NaN  S #dfafdad  \n1       PC 17599#to  71.2833   C85           C  \n2  STON/O2. 3101282   7.9250   NaN           S  \n3            113803  53.1000  C123           S  \n4            373450   8.0500   NaN           S  \n",
          "name": "stdout"
        },
        {
          "output_type": "display_data",
          "data": {
            "image/png": "[encoded data removed]",
            "text/plain": "<Figure size 432x288 with 1 Axes>"
          },
          "metadata": {
            "needs_background": "light"
          }
        }
      ]
    },
    {
      "metadata": {
        "trusted": true
      },
      "cell_type": "code",
      "source": "# Plot 'Age' variable in a histogram\nplt.hist(data['Age']) # data['Age'] is pandas.core.series.Series\nplt.xlabel('Age (years)')\nplt.ylabel('count')\nplt.show()",
      "execution_count": 85,
      "outputs": [
        {
          "output_type": "display_data",
          "data": {
            "image/png": "[encoded data removed]",
            "text/plain": "<Figure size 432x288 with 1 Axes>"
          },
          "metadata": {
            "needs_background": "light"
          }
        }
      ]
    },
    {
      "metadata": {
        "trusted": true
      },
      "cell_type": "code",
      "source": "?plt.plot",
      "execution_count": 84,
      "outputs": []
    },
    {
      "metadata": {
        "trusted": true
      },
      "cell_type": "code",
      "source": "# Plot 'Age' variable in a histogram\ndata['Age'].plot(kind = 'hist') # data['Age'] is pandas.core.series.Series\nplt.xlabel('Age (years)')\nplt.ylabel('count')\nplt.show()",
      "execution_count": 82,
      "outputs": [
        {
          "output_type": "display_data",
          "data": {
            "image/png": "[encoded data removed]",
            "text/plain": "<Figure size 432x288 with 1 Axes>"
          },
          "metadata": {
            "needs_background": "light"
          }
        }
      ]
    },
    {
      "metadata": {
        "trusted": true
      },
      "cell_type": "code",
      "source": "# Plot 'Age' variable in a histogram\ndata['Age'].plot.hist() # data['Age'] is pandas.core.series.Series\nplt.xlabel('Age (years)')\nplt.ylabel('count')\nplt.show()",
      "execution_count": 87,
      "outputs": [
        {
          "output_type": "display_data",
          "data": {
            "image/png": "[encoded data removed]",
            "text/plain": "<Figure size 432x288 with 1 Axes>"
          },
          "metadata": {
            "needs_background": "light"
          }
        }
      ]
    },
    {
      "metadata": {
        "trusted": true
      },
      "cell_type": "code",
      "source": "import matplotlib.pyplot as plt\n?data.plot",
      "execution_count": 86,
      "outputs": []
    },
    {
      "metadata": {
        "trusted": true
      },
      "cell_type": "code",
      "source": "?pd.read_csv",
      "execution_count": null,
      "outputs": []
    },
    {
      "metadata": {
        "trusted": true
      },
      "cell_type": "code",
      "source": "print(type(data.Age))\nprint(type(data['Age']))\nprint(type(data[['Age']]))",
      "execution_count": 73,
      "outputs": [
        {
          "output_type": "stream",
          "text": "<class 'pandas.core.series.Series'>\n<class 'pandas.core.series.Series'>\n<class 'pandas.core.frame.DataFrame'>\n",
          "name": "stdout"
        }
      ]
    },
    {
      "metadata": {
        "trusted": true
      },
      "cell_type": "code",
      "source": "print(data.Age.head())\nprint(data['Age'].head())\nprint(data[['Age']].head())",
      "execution_count": 74,
      "outputs": [
        {
          "output_type": "stream",
          "text": "0    22.0\n1    38.0\n2    26.0\n3    35.0\n4    35.0\nName: Age, dtype: float64\n0    22.0\n1    38.0\n2    26.0\n3    35.0\n4    35.0\nName: Age, dtype: float64\n    Age\n0  22.0\n1  38.0\n2  26.0\n3  35.0\n4  35.0\n",
          "name": "stdout"
        }
      ]
    },
    {
      "metadata": {
        "trusted": true
      },
      "cell_type": "code",
      "source": "",
      "execution_count": null,
      "outputs": []
    }
  ],
  "metadata": {
    "kernelspec": {
      "name": "python36",
      "display_name": "Python 3.6",
      "language": "python"
    },
    "language_info": {
      "mimetype": "text/x-python",
      "nbconvert_exporter": "python",
      "name": "python",
      "pygments_lexer": "ipython3",
      "version": "3.6.6",
      "file_extension": ".py",
      "codemirror_mode": {
        "version": 3,
        "name": "ipython"
      }
    }
  },
  "nbformat": 4,
  "nbformat_minor": 2
}